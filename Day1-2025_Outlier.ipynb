{
 "cells": [
  {
   "cell_type": "code",
   "execution_count": 1,
   "id": "1c6373b7-f67c-489a-927d-9bf67b5aa47e",
   "metadata": {},
   "outputs": [],
   "source": [
    "import numpy as np\n",
    "import pandas as pd\n",
    "import seaborn as sns\n",
    "import matplotlib.pyplot as plt\n",
    "import datetime as dt"
   ]
  },
  {
   "cell_type": "code",
   "execution_count": 47,
   "id": "489b039f-f0f9-4355-8bf9-2a11fa0f7009",
   "metadata": {},
   "outputs": [],
   "source": [
    "df = pd.read_csv(r\"C:\\Users\\spark tech\\Downloads\\archive (9)\\lightening strikes dataset.csv\")"
   ]
  },
  {
   "cell_type": "code",
   "execution_count": 48,
   "id": "9c10013c-1474-4ce2-a915-d66e88207ca1",
   "metadata": {},
   "outputs": [
    {
     "data": {
      "text/html": [
       "<div>\n",
       "<style scoped>\n",
       "    .dataframe tbody tr th:only-of-type {\n",
       "        vertical-align: middle;\n",
       "    }\n",
       "\n",
       "    .dataframe tbody tr th {\n",
       "        vertical-align: top;\n",
       "    }\n",
       "\n",
       "    .dataframe thead th {\n",
       "        text-align: right;\n",
       "    }\n",
       "</style>\n",
       "<table border=\"1\" class=\"dataframe\">\n",
       "  <thead>\n",
       "    <tr style=\"text-align: right;\">\n",
       "      <th></th>\n",
       "      <th>date</th>\n",
       "      <th>number_of_strikes</th>\n",
       "      <th>center_point_geom</th>\n",
       "    </tr>\n",
       "  </thead>\n",
       "  <tbody>\n",
       "    <tr>\n",
       "      <th>0</th>\n",
       "      <td>2018-01-03</td>\n",
       "      <td>194</td>\n",
       "      <td>POINT(-75 27)</td>\n",
       "    </tr>\n",
       "    <tr>\n",
       "      <th>1</th>\n",
       "      <td>2018-01-03</td>\n",
       "      <td>41</td>\n",
       "      <td>POINT(-78.4 29)</td>\n",
       "    </tr>\n",
       "  </tbody>\n",
       "</table>\n",
       "</div>"
      ],
      "text/plain": [
       "         date  number_of_strikes center_point_geom\n",
       "0  2018-01-03                194     POINT(-75 27)\n",
       "1  2018-01-03                 41   POINT(-78.4 29)"
      ]
     },
     "execution_count": 48,
     "metadata": {},
     "output_type": "execute_result"
    }
   ],
   "source": [
    "df.head(2)"
   ]
  },
  {
   "cell_type": "code",
   "execution_count": 5,
   "id": "a6d697a1-7cb6-4211-86c1-485f50a75658",
   "metadata": {},
   "outputs": [
    {
     "data": {
      "text/plain": [
       "(3401012, 3)"
      ]
     },
     "execution_count": 5,
     "metadata": {},
     "output_type": "execute_result"
    }
   ],
   "source": [
    "df.shape"
   ]
  },
  {
   "cell_type": "code",
   "execution_count": 6,
   "id": "cf48c46d-c32d-493a-ba83-25e60facc0ba",
   "metadata": {},
   "outputs": [
    {
     "name": "stdout",
     "output_type": "stream",
     "text": [
      "<class 'pandas.core.frame.DataFrame'>\n",
      "RangeIndex: 3401012 entries, 0 to 3401011\n",
      "Data columns (total 3 columns):\n",
      " #   Column             Dtype \n",
      "---  ------             ----- \n",
      " 0   date               object\n",
      " 1   number_of_strikes  int64 \n",
      " 2   center_point_geom  object\n",
      "dtypes: int64(1), object(2)\n",
      "memory usage: 77.8+ MB\n"
     ]
    }
   ],
   "source": [
    "df.info()"
   ]
  },
  {
   "cell_type": "code",
   "execution_count": 49,
   "id": "febb4ebd-2778-4b2a-9896-95b5d619e6e0",
   "metadata": {},
   "outputs": [],
   "source": [
    "df[\"date\"] = pd.to_datetime(df[\"date\"])"
   ]
  },
  {
   "cell_type": "code",
   "execution_count": 50,
   "id": "1c1cc2ac-be25-45aa-bd84-21f432abd4b0",
   "metadata": {},
   "outputs": [],
   "source": [
    "df[\"Year\"] = df[\"date\"].dt.strftime(\"%Y\")\n",
    "df[\"Quater\"] =  df[\"date\"].dt.to_period(\"Q\").dt.strftime(\"%Y-Q%q\")\n",
    "df[\"Month\"] = df[\"date\"].dt.month_name().str.slice(stop= 3)\n",
    "df[\"Week\"] = df[\"date\"].dt.strftime(\"%Y-W%V\")"
   ]
  },
  {
   "cell_type": "code",
   "execution_count": 9,
   "id": "9ae26ed5-77ef-468d-8330-6ee8d2cbe04e",
   "metadata": {},
   "outputs": [
    {
     "data": {
      "text/html": [
       "<div>\n",
       "<style scoped>\n",
       "    .dataframe tbody tr th:only-of-type {\n",
       "        vertical-align: middle;\n",
       "    }\n",
       "\n",
       "    .dataframe tbody tr th {\n",
       "        vertical-align: top;\n",
       "    }\n",
       "\n",
       "    .dataframe thead th {\n",
       "        text-align: right;\n",
       "    }\n",
       "</style>\n",
       "<table border=\"1\" class=\"dataframe\">\n",
       "  <thead>\n",
       "    <tr style=\"text-align: right;\">\n",
       "      <th></th>\n",
       "      <th>date</th>\n",
       "      <th>number_of_strikes</th>\n",
       "      <th>center_point_geom</th>\n",
       "      <th>Year</th>\n",
       "      <th>Quater</th>\n",
       "      <th>Month</th>\n",
       "      <th>Week</th>\n",
       "    </tr>\n",
       "  </thead>\n",
       "  <tbody>\n",
       "    <tr>\n",
       "      <th>0</th>\n",
       "      <td>2018-01-03</td>\n",
       "      <td>194</td>\n",
       "      <td>POINT(-75 27)</td>\n",
       "      <td>2018</td>\n",
       "      <td>2018-Q1</td>\n",
       "      <td>Jan</td>\n",
       "      <td>2018-W01</td>\n",
       "    </tr>\n",
       "    <tr>\n",
       "      <th>1</th>\n",
       "      <td>2018-01-03</td>\n",
       "      <td>41</td>\n",
       "      <td>POINT(-78.4 29)</td>\n",
       "      <td>2018</td>\n",
       "      <td>2018-Q1</td>\n",
       "      <td>Jan</td>\n",
       "      <td>2018-W01</td>\n",
       "    </tr>\n",
       "    <tr>\n",
       "      <th>2</th>\n",
       "      <td>2018-01-03</td>\n",
       "      <td>33</td>\n",
       "      <td>POINT(-73.9 27)</td>\n",
       "      <td>2018</td>\n",
       "      <td>2018-Q1</td>\n",
       "      <td>Jan</td>\n",
       "      <td>2018-W01</td>\n",
       "    </tr>\n",
       "  </tbody>\n",
       "</table>\n",
       "</div>"
      ],
      "text/plain": [
       "        date  number_of_strikes center_point_geom  Year   Quater Month  \\\n",
       "0 2018-01-03                194     POINT(-75 27)  2018  2018-Q1   Jan   \n",
       "1 2018-01-03                 41   POINT(-78.4 29)  2018  2018-Q1   Jan   \n",
       "2 2018-01-03                 33   POINT(-73.9 27)  2018  2018-Q1   Jan   \n",
       "\n",
       "       Week  \n",
       "0  2018-W01  \n",
       "1  2018-W01  \n",
       "2  2018-W01  "
      ]
     },
     "execution_count": 9,
     "metadata": {},
     "output_type": "execute_result"
    }
   ],
   "source": [
    "df.head(3)"
   ]
  },
  {
   "cell_type": "code",
   "execution_count": 51,
   "id": "91d4319a-084c-439a-94b0-25fe8b504212",
   "metadata": {},
   "outputs": [
    {
     "data": {
      "text/plain": [
       "Month\n",
       "Aug    717530\n",
       "Jul    711697\n",
       "Jun    489215\n",
       "May    419939\n",
       "Sep    381114\n",
       "Oct    169846\n",
       "Apr    153786\n",
       "Mar    104206\n",
       "Nov     72604\n",
       "Feb     66808\n",
       "Jan     58410\n",
       "Dec     55857\n",
       "Name: count, dtype: int64"
      ]
     },
     "execution_count": 51,
     "metadata": {},
     "output_type": "execute_result"
    }
   ],
   "source": [
    "df[\"Month\"].value_counts()"
   ]
  },
  {
   "cell_type": "code",
   "execution_count": 18,
   "id": "9daaf53c-e514-4b83-9fcd-eaff16a80ab1",
   "metadata": {},
   "outputs": [
    {
     "name": "stdout",
     "output_type": "stream",
     "text": [
      "<class 'pandas.core.frame.DataFrame'>\n",
      "RangeIndex: 3401012 entries, 0 to 3401011\n",
      "Data columns (total 7 columns):\n",
      " #   Column             Dtype         \n",
      "---  ------             -----         \n",
      " 0   date               datetime64[ns]\n",
      " 1   number_of_strikes  int64         \n",
      " 2   center_point_geom  object        \n",
      " 3   Year               object        \n",
      " 4   Quater             object        \n",
      " 5   Month              object        \n",
      " 6   Week               object        \n",
      "dtypes: datetime64[ns](1), int64(1), object(5)\n",
      "memory usage: 181.6+ MB\n"
     ]
    }
   ],
   "source": [
    "df.info()"
   ]
  },
  {
   "cell_type": "code",
   "execution_count": null,
   "id": "40e625fb-7f0d-4618-9779-758353aeec30",
   "metadata": {},
   "outputs": [],
   "source": []
  },
  {
   "cell_type": "code",
   "execution_count": 21,
   "id": "1779fbaf-c385-4753-b260-d88e1ee109a9",
   "metadata": {},
   "outputs": [
    {
     "name": "stdout",
     "output_type": "stream",
     "text": [
      "<class 'pandas.core.frame.DataFrame'>\n",
      "RangeIndex: 3401012 entries, 0 to 3401011\n",
      "Data columns (total 7 columns):\n",
      " #   Column             Dtype         \n",
      "---  ------             -----         \n",
      " 0   date               datetime64[ns]\n",
      " 1   number_of_strikes  int64         \n",
      " 2   center_point_geom  object        \n",
      " 3   Year               object        \n",
      " 4   Quater             object        \n",
      " 5   Month              object        \n",
      " 6   Week               object        \n",
      "dtypes: datetime64[ns](1), int64(1), object(5)\n",
      "memory usage: 181.6+ MB\n"
     ]
    }
   ],
   "source": [
    "df.info()"
   ]
  },
  {
   "cell_type": "code",
   "execution_count": 52,
   "id": "c76c433f-a149-4388-bc70-9ebb19754757",
   "metadata": {},
   "outputs": [],
   "source": [
    "y = df.groupby([\"Month\"]).sum(numeric_only=True).sort_values(\"number_of_strikes\", ascending=False)"
   ]
  },
  {
   "cell_type": "code",
   "execution_count": 53,
   "id": "0c7dcc0a-4b40-4a15-90bb-1eba07274210",
   "metadata": {},
   "outputs": [
    {
     "data": {
      "text/html": [
       "<div>\n",
       "<style scoped>\n",
       "    .dataframe tbody tr th:only-of-type {\n",
       "        vertical-align: middle;\n",
       "    }\n",
       "\n",
       "    .dataframe tbody tr th {\n",
       "        vertical-align: top;\n",
       "    }\n",
       "\n",
       "    .dataframe thead th {\n",
       "        text-align: right;\n",
       "    }\n",
       "</style>\n",
       "<table border=\"1\" class=\"dataframe\">\n",
       "  <thead>\n",
       "    <tr style=\"text-align: right;\">\n",
       "      <th></th>\n",
       "      <th>number_of_strikes</th>\n",
       "    </tr>\n",
       "    <tr>\n",
       "      <th>Month</th>\n",
       "      <th></th>\n",
       "    </tr>\n",
       "  </thead>\n",
       "  <tbody>\n",
       "    <tr>\n",
       "      <th>Aug</th>\n",
       "      <td>15525255</td>\n",
       "    </tr>\n",
       "    <tr>\n",
       "      <th>Jul</th>\n",
       "      <td>8320400</td>\n",
       "    </tr>\n",
       "    <tr>\n",
       "      <th>Jun</th>\n",
       "      <td>6445083</td>\n",
       "    </tr>\n",
       "    <tr>\n",
       "      <th>May</th>\n",
       "      <td>4166726</td>\n",
       "    </tr>\n",
       "    <tr>\n",
       "      <th>Sep</th>\n",
       "      <td>3018336</td>\n",
       "    </tr>\n",
       "    <tr>\n",
       "      <th>Feb</th>\n",
       "      <td>2071315</td>\n",
       "    </tr>\n",
       "    <tr>\n",
       "      <th>Apr</th>\n",
       "      <td>1524339</td>\n",
       "    </tr>\n",
       "    <tr>\n",
       "      <th>Oct</th>\n",
       "      <td>1093962</td>\n",
       "    </tr>\n",
       "    <tr>\n",
       "      <th>Jan</th>\n",
       "      <td>860045</td>\n",
       "    </tr>\n",
       "    <tr>\n",
       "      <th>Mar</th>\n",
       "      <td>854168</td>\n",
       "    </tr>\n",
       "    <tr>\n",
       "      <th>Nov</th>\n",
       "      <td>409263</td>\n",
       "    </tr>\n",
       "    <tr>\n",
       "      <th>Dec</th>\n",
       "      <td>312097</td>\n",
       "    </tr>\n",
       "  </tbody>\n",
       "</table>\n",
       "</div>"
      ],
      "text/plain": [
       "       number_of_strikes\n",
       "Month                   \n",
       "Aug             15525255\n",
       "Jul              8320400\n",
       "Jun              6445083\n",
       "May              4166726\n",
       "Sep              3018336\n",
       "Feb              2071315\n",
       "Apr              1524339\n",
       "Oct              1093962\n",
       "Jan               860045\n",
       "Mar               854168\n",
       "Nov               409263\n",
       "Dec               312097"
      ]
     },
     "execution_count": 53,
     "metadata": {},
     "output_type": "execute_result"
    }
   ],
   "source": [
    "y"
   ]
  },
  {
   "cell_type": "code",
   "execution_count": 54,
   "id": "09e5c936-d193-48d4-a75d-fc6e6c7cb152",
   "metadata": {},
   "outputs": [],
   "source": [
    "month_frequency = df[\"Month\"].value_counts()"
   ]
  },
  {
   "cell_type": "code",
   "execution_count": 55,
   "id": "b099339c-a865-40f5-947d-66ec07a424a6",
   "metadata": {},
   "outputs": [
    {
     "data": {
      "text/plain": [
       "Month\n",
       "Aug    717530\n",
       "Jul    711697\n",
       "Jun    489215\n",
       "May    419939\n",
       "Sep    381114\n",
       "Oct    169846\n",
       "Apr    153786\n",
       "Mar    104206\n",
       "Nov     72604\n",
       "Feb     66808\n",
       "Jan     58410\n",
       "Dec     55857\n",
       "Name: count, dtype: int64"
      ]
     },
     "execution_count": 55,
     "metadata": {},
     "output_type": "execute_result"
    }
   ],
   "source": [
    "month_frequency"
   ]
  },
  {
   "cell_type": "code",
   "execution_count": 78,
   "id": "bfb85e14-711c-42c3-8f52-a915ce3d93e2",
   "metadata": {},
   "outputs": [],
   "source": [
    "month_order = [\"Jan\",\"Feb\",\"Mar\",\"Apr\",\"May\",\"Jun\",\"Jul\",\"Aug\",\"Sep\",\"Aug\",\"Nov\",\"Dec\"]"
   ]
  },
  {
   "cell_type": "code",
   "execution_count": 81,
   "id": "ee909364-a4a6-49d7-b900-3197bff7e8b8",
   "metadata": {},
   "outputs": [
    {
     "data": {
      "text/html": [
       "<div>\n",
       "<style scoped>\n",
       "    .dataframe tbody tr th:only-of-type {\n",
       "        vertical-align: middle;\n",
       "    }\n",
       "\n",
       "    .dataframe tbody tr th {\n",
       "        vertical-align: top;\n",
       "    }\n",
       "\n",
       "    .dataframe thead th {\n",
       "        text-align: right;\n",
       "    }\n",
       "</style>\n",
       "<table border=\"1\" class=\"dataframe\">\n",
       "  <thead>\n",
       "    <tr style=\"text-align: right;\">\n",
       "      <th></th>\n",
       "      <th>date</th>\n",
       "      <th>number_of_strikes</th>\n",
       "      <th>center_point_geom</th>\n",
       "      <th>Year</th>\n",
       "      <th>Quater</th>\n",
       "      <th>Month</th>\n",
       "      <th>Week</th>\n",
       "    </tr>\n",
       "  </thead>\n",
       "  <tbody>\n",
       "    <tr>\n",
       "      <th>0</th>\n",
       "      <td>2018-01-03</td>\n",
       "      <td>194</td>\n",
       "      <td>POINT(-75 27)</td>\n",
       "      <td>2018</td>\n",
       "      <td>2018-Q1</td>\n",
       "      <td>Jan</td>\n",
       "      <td>2018-W01</td>\n",
       "    </tr>\n",
       "    <tr>\n",
       "      <th>1</th>\n",
       "      <td>2018-01-03</td>\n",
       "      <td>41</td>\n",
       "      <td>POINT(-78.4 29)</td>\n",
       "      <td>2018</td>\n",
       "      <td>2018-Q1</td>\n",
       "      <td>Jan</td>\n",
       "      <td>2018-W01</td>\n",
       "    </tr>\n",
       "    <tr>\n",
       "      <th>2</th>\n",
       "      <td>2018-01-03</td>\n",
       "      <td>33</td>\n",
       "      <td>POINT(-73.9 27)</td>\n",
       "      <td>2018</td>\n",
       "      <td>2018-Q1</td>\n",
       "      <td>Jan</td>\n",
       "      <td>2018-W01</td>\n",
       "    </tr>\n",
       "    <tr>\n",
       "      <th>3</th>\n",
       "      <td>2018-01-03</td>\n",
       "      <td>38</td>\n",
       "      <td>POINT(-73.8 27)</td>\n",
       "      <td>2018</td>\n",
       "      <td>2018-Q1</td>\n",
       "      <td>Jan</td>\n",
       "      <td>2018-W01</td>\n",
       "    </tr>\n",
       "    <tr>\n",
       "      <th>4</th>\n",
       "      <td>2018-01-03</td>\n",
       "      <td>92</td>\n",
       "      <td>POINT(-79 28)</td>\n",
       "      <td>2018</td>\n",
       "      <td>2018-Q1</td>\n",
       "      <td>Jan</td>\n",
       "      <td>2018-W01</td>\n",
       "    </tr>\n",
       "  </tbody>\n",
       "</table>\n",
       "</div>"
      ],
      "text/plain": [
       "        date  number_of_strikes center_point_geom  Year   Quater Month  \\\n",
       "0 2018-01-03                194     POINT(-75 27)  2018  2018-Q1   Jan   \n",
       "1 2018-01-03                 41   POINT(-78.4 29)  2018  2018-Q1   Jan   \n",
       "2 2018-01-03                 33   POINT(-73.9 27)  2018  2018-Q1   Jan   \n",
       "3 2018-01-03                 38   POINT(-73.8 27)  2018  2018-Q1   Jan   \n",
       "4 2018-01-03                 92     POINT(-79 28)  2018  2018-Q1   Jan   \n",
       "\n",
       "       Week  \n",
       "0  2018-W01  \n",
       "1  2018-W01  \n",
       "2  2018-W01  \n",
       "3  2018-W01  \n",
       "4  2018-W01  "
      ]
     },
     "execution_count": 81,
     "metadata": {},
     "output_type": "execute_result"
    }
   ],
   "source": [
    "df.head()"
   ]
  },
  {
   "cell_type": "code",
   "execution_count": 80,
   "id": "ec10d342-2d3d-43e6-9897-d9ec8334a320",
   "metadata": {},
   "outputs": [
    {
     "data": {
      "text/plain": [
       "Month\n",
       "jan         NaN\n",
       "Feb     66808.0\n",
       "Mar    104206.0\n",
       "Apr    153786.0\n",
       "May    419939.0\n",
       "Jun    489215.0\n",
       "Jul    711697.0\n",
       "Aug    717530.0\n",
       "Sep    381114.0\n",
       "Aug    717530.0\n",
       "Nov     72604.0\n",
       "Dec     55857.0\n",
       "Name: count, dtype: float64"
      ]
     },
     "execution_count": 80,
     "metadata": {},
     "output_type": "execute_result"
    }
   ],
   "source": [
    "month_frequency"
   ]
  },
  {
   "cell_type": "code",
   "execution_count": 59,
   "id": "7a99c679-20fd-4834-a9f9-e754ab226578",
   "metadata": {},
   "outputs": [],
   "source": [
    "y = y.reindex(index =month_order)"
   ]
  },
  {
   "cell_type": "code",
   "execution_count": 60,
   "id": "ee799570-ff8c-4772-b5fc-9578d6808bf1",
   "metadata": {},
   "outputs": [
    {
     "data": {
      "text/html": [
       "<div>\n",
       "<style scoped>\n",
       "    .dataframe tbody tr th:only-of-type {\n",
       "        vertical-align: middle;\n",
       "    }\n",
       "\n",
       "    .dataframe tbody tr th {\n",
       "        vertical-align: top;\n",
       "    }\n",
       "\n",
       "    .dataframe thead th {\n",
       "        text-align: right;\n",
       "    }\n",
       "</style>\n",
       "<table border=\"1\" class=\"dataframe\">\n",
       "  <thead>\n",
       "    <tr style=\"text-align: right;\">\n",
       "      <th></th>\n",
       "      <th>number_of_strikes</th>\n",
       "    </tr>\n",
       "    <tr>\n",
       "      <th>Month</th>\n",
       "      <th></th>\n",
       "    </tr>\n",
       "  </thead>\n",
       "  <tbody>\n",
       "    <tr>\n",
       "      <th>jan</th>\n",
       "      <td>NaN</td>\n",
       "    </tr>\n",
       "    <tr>\n",
       "      <th>Feb</th>\n",
       "      <td>2071315.0</td>\n",
       "    </tr>\n",
       "    <tr>\n",
       "      <th>Mar</th>\n",
       "      <td>854168.0</td>\n",
       "    </tr>\n",
       "    <tr>\n",
       "      <th>Apr</th>\n",
       "      <td>1524339.0</td>\n",
       "    </tr>\n",
       "    <tr>\n",
       "      <th>May</th>\n",
       "      <td>4166726.0</td>\n",
       "    </tr>\n",
       "    <tr>\n",
       "      <th>Jun</th>\n",
       "      <td>6445083.0</td>\n",
       "    </tr>\n",
       "    <tr>\n",
       "      <th>Jul</th>\n",
       "      <td>8320400.0</td>\n",
       "    </tr>\n",
       "    <tr>\n",
       "      <th>Aug</th>\n",
       "      <td>15525255.0</td>\n",
       "    </tr>\n",
       "    <tr>\n",
       "      <th>Sep</th>\n",
       "      <td>3018336.0</td>\n",
       "    </tr>\n",
       "    <tr>\n",
       "      <th>Aug</th>\n",
       "      <td>15525255.0</td>\n",
       "    </tr>\n",
       "    <tr>\n",
       "      <th>Nov</th>\n",
       "      <td>409263.0</td>\n",
       "    </tr>\n",
       "    <tr>\n",
       "      <th>Dec</th>\n",
       "      <td>312097.0</td>\n",
       "    </tr>\n",
       "  </tbody>\n",
       "</table>\n",
       "</div>"
      ],
      "text/plain": [
       "       number_of_strikes\n",
       "Month                   \n",
       "jan                  NaN\n",
       "Feb            2071315.0\n",
       "Mar             854168.0\n",
       "Apr            1524339.0\n",
       "May            4166726.0\n",
       "Jun            6445083.0\n",
       "Jul            8320400.0\n",
       "Aug           15525255.0\n",
       "Sep            3018336.0\n",
       "Aug           15525255.0\n",
       "Nov             409263.0\n",
       "Dec             312097.0"
      ]
     },
     "execution_count": 60,
     "metadata": {},
     "output_type": "execute_result"
    }
   ],
   "source": [
    "y"
   ]
  },
  {
   "cell_type": "code",
   "execution_count": 61,
   "id": "527857b9-2427-48c7-a96a-824b4e573da5",
   "metadata": {},
   "outputs": [
    {
     "data": {
      "text/html": [
       "<div>\n",
       "<style scoped>\n",
       "    .dataframe tbody tr th:only-of-type {\n",
       "        vertical-align: middle;\n",
       "    }\n",
       "\n",
       "    .dataframe tbody tr th {\n",
       "        vertical-align: top;\n",
       "    }\n",
       "\n",
       "    .dataframe thead th {\n",
       "        text-align: right;\n",
       "    }\n",
       "</style>\n",
       "<table border=\"1\" class=\"dataframe\">\n",
       "  <thead>\n",
       "    <tr style=\"text-align: right;\">\n",
       "      <th></th>\n",
       "      <th>number_of_strikes</th>\n",
       "    </tr>\n",
       "    <tr>\n",
       "      <th>Month</th>\n",
       "      <th></th>\n",
       "    </tr>\n",
       "  </thead>\n",
       "  <tbody>\n",
       "    <tr>\n",
       "      <th>Apr</th>\n",
       "      <td>1524339</td>\n",
       "    </tr>\n",
       "    <tr>\n",
       "      <th>Aug</th>\n",
       "      <td>15525255</td>\n",
       "    </tr>\n",
       "    <tr>\n",
       "      <th>Dec</th>\n",
       "      <td>312097</td>\n",
       "    </tr>\n",
       "    <tr>\n",
       "      <th>Feb</th>\n",
       "      <td>2071315</td>\n",
       "    </tr>\n",
       "    <tr>\n",
       "      <th>Jan</th>\n",
       "      <td>860045</td>\n",
       "    </tr>\n",
       "    <tr>\n",
       "      <th>Jul</th>\n",
       "      <td>8320400</td>\n",
       "    </tr>\n",
       "    <tr>\n",
       "      <th>Jun</th>\n",
       "      <td>6445083</td>\n",
       "    </tr>\n",
       "    <tr>\n",
       "      <th>Mar</th>\n",
       "      <td>854168</td>\n",
       "    </tr>\n",
       "    <tr>\n",
       "      <th>May</th>\n",
       "      <td>4166726</td>\n",
       "    </tr>\n",
       "    <tr>\n",
       "      <th>Nov</th>\n",
       "      <td>409263</td>\n",
       "    </tr>\n",
       "    <tr>\n",
       "      <th>Oct</th>\n",
       "      <td>1093962</td>\n",
       "    </tr>\n",
       "    <tr>\n",
       "      <th>Sep</th>\n",
       "      <td>3018336</td>\n",
       "    </tr>\n",
       "  </tbody>\n",
       "</table>\n",
       "</div>"
      ],
      "text/plain": [
       "       number_of_strikes\n",
       "Month                   \n",
       "Apr              1524339\n",
       "Aug             15525255\n",
       "Dec               312097\n",
       "Feb              2071315\n",
       "Jan               860045\n",
       "Jul              8320400\n",
       "Jun              6445083\n",
       "Mar               854168\n",
       "May              4166726\n",
       "Nov               409263\n",
       "Oct              1093962\n",
       "Sep              3018336"
      ]
     },
     "execution_count": 61,
     "metadata": {},
     "output_type": "execute_result"
    }
   ],
   "source": [
    "df.groupby(\"Month\").sum(numeric_only = True)"
   ]
  },
  {
   "cell_type": "code",
   "execution_count": 70,
   "id": "2e42ac72-f94b-4e04-a2bd-2420b59e9f4e",
   "metadata": {},
   "outputs": [],
   "source": [
    "r = df.groupby(df[\"Month\"]).sum(numeric_only = True)"
   ]
  },
  {
   "cell_type": "code",
   "execution_count": 65,
   "id": "6c75ebc3-4c63-4a10-ac4a-3e2a309b0477",
   "metadata": {},
   "outputs": [],
   "source": [
    "def readable_number(x):\n",
    "    if x<1000:\n",
    "        return x\n",
    "    elif x<1e6:\n",
    "        return \"{:1.0f}K\".format(x*1e-3)\n",
    "    else:\n",
    "        return \"{:1.1f}M\".format(x*1e-6)\n"
   ]
  },
  {
   "cell_type": "code",
   "execution_count": 74,
   "id": "87acf37d-aabd-43a5-88d6-08b8fa4aae61",
   "metadata": {},
   "outputs": [
    {
     "name": "stderr",
     "output_type": "stream",
     "text": [
      "C:\\Users\\spark tech\\AppData\\Local\\Temp\\ipykernel_7788\\317705117.py:1: FutureWarning: DataFrame.applymap has been deprecated. Use DataFrame.map instead.\n",
      "  t =r.applymap(readable_number)\n"
     ]
    }
   ],
   "source": [
    "t =r.applymap(readable_number)"
   ]
  },
  {
   "cell_type": "code",
   "execution_count": 75,
   "id": "86395c57-956c-4445-927d-4198c87d7fca",
   "metadata": {},
   "outputs": [
    {
     "data": {
      "text/html": [
       "<div>\n",
       "<style scoped>\n",
       "    .dataframe tbody tr th:only-of-type {\n",
       "        vertical-align: middle;\n",
       "    }\n",
       "\n",
       "    .dataframe tbody tr th {\n",
       "        vertical-align: top;\n",
       "    }\n",
       "\n",
       "    .dataframe thead th {\n",
       "        text-align: right;\n",
       "    }\n",
       "</style>\n",
       "<table border=\"1\" class=\"dataframe\">\n",
       "  <thead>\n",
       "    <tr style=\"text-align: right;\">\n",
       "      <th></th>\n",
       "      <th>number_of_strikes</th>\n",
       "    </tr>\n",
       "    <tr>\n",
       "      <th>Month</th>\n",
       "      <th></th>\n",
       "    </tr>\n",
       "  </thead>\n",
       "  <tbody>\n",
       "    <tr>\n",
       "      <th>Apr</th>\n",
       "      <td>1.5M</td>\n",
       "    </tr>\n",
       "    <tr>\n",
       "      <th>Aug</th>\n",
       "      <td>15.5M</td>\n",
       "    </tr>\n",
       "    <tr>\n",
       "      <th>Dec</th>\n",
       "      <td>312K</td>\n",
       "    </tr>\n",
       "    <tr>\n",
       "      <th>Feb</th>\n",
       "      <td>2.1M</td>\n",
       "    </tr>\n",
       "    <tr>\n",
       "      <th>Jan</th>\n",
       "      <td>860K</td>\n",
       "    </tr>\n",
       "    <tr>\n",
       "      <th>Jul</th>\n",
       "      <td>8.3M</td>\n",
       "    </tr>\n",
       "    <tr>\n",
       "      <th>Jun</th>\n",
       "      <td>6.4M</td>\n",
       "    </tr>\n",
       "    <tr>\n",
       "      <th>Mar</th>\n",
       "      <td>854K</td>\n",
       "    </tr>\n",
       "    <tr>\n",
       "      <th>May</th>\n",
       "      <td>4.2M</td>\n",
       "    </tr>\n",
       "    <tr>\n",
       "      <th>Nov</th>\n",
       "      <td>409K</td>\n",
       "    </tr>\n",
       "    <tr>\n",
       "      <th>Oct</th>\n",
       "      <td>1.1M</td>\n",
       "    </tr>\n",
       "    <tr>\n",
       "      <th>Sep</th>\n",
       "      <td>3.0M</td>\n",
       "    </tr>\n",
       "  </tbody>\n",
       "</table>\n",
       "</div>"
      ],
      "text/plain": [
       "      number_of_strikes\n",
       "Month                  \n",
       "Apr                1.5M\n",
       "Aug               15.5M\n",
       "Dec                312K\n",
       "Feb                2.1M\n",
       "Jan                860K\n",
       "Jul                8.3M\n",
       "Jun                6.4M\n",
       "Mar                854K\n",
       "May                4.2M\n",
       "Nov                409K\n",
       "Oct                1.1M\n",
       "Sep                3.0M"
      ]
     },
     "execution_count": 75,
     "metadata": {},
     "output_type": "execute_result"
    }
   ],
   "source": [
    "t"
   ]
  },
  {
   "cell_type": "code",
   "execution_count": 76,
   "id": "7c6a2437-e8f7-45c1-8e42-501c6e2a0d85",
   "metadata": {},
   "outputs": [
    {
     "name": "stderr",
     "output_type": "stream",
     "text": [
      "C:\\Users\\spark tech\\AppData\\Local\\Temp\\ipykernel_7788\\2257434741.py:1: FutureWarning: DataFrame.applymap has been deprecated. Use DataFrame.map instead.\n",
      "  y =y.applymap(readable_number)\n"
     ]
    }
   ],
   "source": [
    "y =y.applymap(readable_number)"
   ]
  },
  {
   "cell_type": "code",
   "execution_count": 77,
   "id": "2611bef9-9041-4cfb-b967-dea4a3e674a9",
   "metadata": {},
   "outputs": [
    {
     "data": {
      "text/html": [
       "<div>\n",
       "<style scoped>\n",
       "    .dataframe tbody tr th:only-of-type {\n",
       "        vertical-align: middle;\n",
       "    }\n",
       "\n",
       "    .dataframe tbody tr th {\n",
       "        vertical-align: top;\n",
       "    }\n",
       "\n",
       "    .dataframe thead th {\n",
       "        text-align: right;\n",
       "    }\n",
       "</style>\n",
       "<table border=\"1\" class=\"dataframe\">\n",
       "  <thead>\n",
       "    <tr style=\"text-align: right;\">\n",
       "      <th></th>\n",
       "      <th>number_of_strikes</th>\n",
       "    </tr>\n",
       "    <tr>\n",
       "      <th>Month</th>\n",
       "      <th></th>\n",
       "    </tr>\n",
       "  </thead>\n",
       "  <tbody>\n",
       "    <tr>\n",
       "      <th>jan</th>\n",
       "      <td>nanM</td>\n",
       "    </tr>\n",
       "    <tr>\n",
       "      <th>Feb</th>\n",
       "      <td>2.1M</td>\n",
       "    </tr>\n",
       "    <tr>\n",
       "      <th>Mar</th>\n",
       "      <td>854K</td>\n",
       "    </tr>\n",
       "    <tr>\n",
       "      <th>Apr</th>\n",
       "      <td>1.5M</td>\n",
       "    </tr>\n",
       "    <tr>\n",
       "      <th>May</th>\n",
       "      <td>4.2M</td>\n",
       "    </tr>\n",
       "    <tr>\n",
       "      <th>Jun</th>\n",
       "      <td>6.4M</td>\n",
       "    </tr>\n",
       "    <tr>\n",
       "      <th>Jul</th>\n",
       "      <td>8.3M</td>\n",
       "    </tr>\n",
       "    <tr>\n",
       "      <th>Aug</th>\n",
       "      <td>15.5M</td>\n",
       "    </tr>\n",
       "    <tr>\n",
       "      <th>Sep</th>\n",
       "      <td>3.0M</td>\n",
       "    </tr>\n",
       "    <tr>\n",
       "      <th>Aug</th>\n",
       "      <td>15.5M</td>\n",
       "    </tr>\n",
       "    <tr>\n",
       "      <th>Nov</th>\n",
       "      <td>409K</td>\n",
       "    </tr>\n",
       "    <tr>\n",
       "      <th>Dec</th>\n",
       "      <td>312K</td>\n",
       "    </tr>\n",
       "  </tbody>\n",
       "</table>\n",
       "</div>"
      ],
      "text/plain": [
       "      number_of_strikes\n",
       "Month                  \n",
       "jan                nanM\n",
       "Feb                2.1M\n",
       "Mar                854K\n",
       "Apr                1.5M\n",
       "May                4.2M\n",
       "Jun                6.4M\n",
       "Jul                8.3M\n",
       "Aug               15.5M\n",
       "Sep                3.0M\n",
       "Aug               15.5M\n",
       "Nov                409K\n",
       "Dec                312K"
      ]
     },
     "execution_count": 77,
     "metadata": {},
     "output_type": "execute_result"
    }
   ],
   "source": [
    "y"
   ]
  },
  {
   "cell_type": "code",
   "execution_count": 82,
   "id": "ab4740b6-a7a7-4194-b6bc-b21ddfe6d574",
   "metadata": {},
   "outputs": [
    {
     "data": {
      "text/html": [
       "<div>\n",
       "<style scoped>\n",
       "    .dataframe tbody tr th:only-of-type {\n",
       "        vertical-align: middle;\n",
       "    }\n",
       "\n",
       "    .dataframe tbody tr th {\n",
       "        vertical-align: top;\n",
       "    }\n",
       "\n",
       "    .dataframe thead th {\n",
       "        text-align: right;\n",
       "    }\n",
       "</style>\n",
       "<table border=\"1\" class=\"dataframe\">\n",
       "  <thead>\n",
       "    <tr style=\"text-align: right;\">\n",
       "      <th></th>\n",
       "      <th>date</th>\n",
       "      <th>number_of_strikes</th>\n",
       "      <th>center_point_geom</th>\n",
       "      <th>Year</th>\n",
       "      <th>Quater</th>\n",
       "      <th>Month</th>\n",
       "      <th>Week</th>\n",
       "    </tr>\n",
       "  </thead>\n",
       "  <tbody>\n",
       "    <tr>\n",
       "      <th>0</th>\n",
       "      <td>2018-01-03</td>\n",
       "      <td>194</td>\n",
       "      <td>POINT(-75 27)</td>\n",
       "      <td>2018</td>\n",
       "      <td>2018-Q1</td>\n",
       "      <td>Jan</td>\n",
       "      <td>2018-W01</td>\n",
       "    </tr>\n",
       "    <tr>\n",
       "      <th>1</th>\n",
       "      <td>2018-01-03</td>\n",
       "      <td>41</td>\n",
       "      <td>POINT(-78.4 29)</td>\n",
       "      <td>2018</td>\n",
       "      <td>2018-Q1</td>\n",
       "      <td>Jan</td>\n",
       "      <td>2018-W01</td>\n",
       "    </tr>\n",
       "  </tbody>\n",
       "</table>\n",
       "</div>"
      ],
      "text/plain": [
       "        date  number_of_strikes center_point_geom  Year   Quater Month  \\\n",
       "0 2018-01-03                194     POINT(-75 27)  2018  2018-Q1   Jan   \n",
       "1 2018-01-03                 41   POINT(-78.4 29)  2018  2018-Q1   Jan   \n",
       "\n",
       "       Week  \n",
       "0  2018-W01  \n",
       "1  2018-W01  "
      ]
     },
     "execution_count": 82,
     "metadata": {},
     "output_type": "execute_result"
    }
   ],
   "source": [
    "df.head(2)"
   ]
  },
  {
   "cell_type": "code",
   "execution_count": 85,
   "id": "2208ba7e-7119-413d-967c-ffe222aa15d4",
   "metadata": {},
   "outputs": [
    {
     "data": {
      "text/html": [
       "<div>\n",
       "<style scoped>\n",
       "    .dataframe tbody tr th:only-of-type {\n",
       "        vertical-align: middle;\n",
       "    }\n",
       "\n",
       "    .dataframe tbody tr th {\n",
       "        vertical-align: top;\n",
       "    }\n",
       "\n",
       "    .dataframe thead th {\n",
       "        text-align: right;\n",
       "    }\n",
       "</style>\n",
       "<table border=\"1\" class=\"dataframe\">\n",
       "  <thead>\n",
       "    <tr style=\"text-align: right;\">\n",
       "      <th></th>\n",
       "      <th>number_of_strikes</th>\n",
       "    </tr>\n",
       "    <tr>\n",
       "      <th>Year</th>\n",
       "      <th></th>\n",
       "    </tr>\n",
       "  </thead>\n",
       "  <tbody>\n",
       "    <tr>\n",
       "      <th>2018</th>\n",
       "      <td>44600989</td>\n",
       "    </tr>\n",
       "  </tbody>\n",
       "</table>\n",
       "</div>"
      ],
      "text/plain": [
       "      number_of_strikes\n",
       "Year                   \n",
       "2018           44600989"
      ]
     },
     "execution_count": 85,
     "metadata": {},
     "output_type": "execute_result"
    }
   ],
   "source": [
    "df.groupby(\"Year\").sum(numeric_only = True)"
   ]
  },
  {
   "cell_type": "code",
   "execution_count": 88,
   "id": "11019269-423e-44ab-8db3-f21ae792aa3f",
   "metadata": {},
   "outputs": [
    {
     "data": {
      "text/plain": [
       "<Axes: xlabel='number_of_strikes'>"
      ]
     },
     "execution_count": 88,
     "metadata": {},
     "output_type": "execute_result"
    },
    {
     "data": {
      "image/png": "[encoded data removed]",
      "text/plain": [
       "<Figure size 700x200 with 1 Axes>"
      ]
     },
     "metadata": {},
     "output_type": "display_data"
    }
   ],
   "source": [
    "plt.figure(figsize = (7,2))\n",
    "sns.boxplot(x=df[\"number_of_strikes\"], fliersize =1)\n"
   ]
  },
  {
   "cell_type": "code",
   "execution_count": 89,
   "id": "f9f02694-f20a-4e22-b351-d2f3d1864fd9",
   "metadata": {},
   "outputs": [
    {
     "data": {
      "text/html": [
       "<div>\n",
       "<style scoped>\n",
       "    .dataframe tbody tr th:only-of-type {\n",
       "        vertical-align: middle;\n",
       "    }\n",
       "\n",
       "    .dataframe tbody tr th {\n",
       "        vertical-align: top;\n",
       "    }\n",
       "\n",
       "    .dataframe thead th {\n",
       "        text-align: right;\n",
       "    }\n",
       "</style>\n",
       "<table border=\"1\" class=\"dataframe\">\n",
       "  <thead>\n",
       "    <tr style=\"text-align: right;\">\n",
       "      <th></th>\n",
       "      <th>date</th>\n",
       "      <th>number_of_strikes</th>\n",
       "      <th>center_point_geom</th>\n",
       "      <th>Year</th>\n",
       "      <th>Quater</th>\n",
       "      <th>Month</th>\n",
       "      <th>Week</th>\n",
       "    </tr>\n",
       "  </thead>\n",
       "  <tbody>\n",
       "    <tr>\n",
       "      <th>2462</th>\n",
       "      <td>2018-01-11</td>\n",
       "      <td>1611</td>\n",
       "      <td>POINT(-76 24.1)</td>\n",
       "      <td>2018</td>\n",
       "      <td>2018-Q1</td>\n",
       "      <td>Jan</td>\n",
       "      <td>2018-W02</td>\n",
       "    </tr>\n",
       "    <tr>\n",
       "      <th>11517</th>\n",
       "      <td>2018-02-10</td>\n",
       "      <td>1899</td>\n",
       "      <td>POINT(-95.5 28.1)</td>\n",
       "      <td>2018</td>\n",
       "      <td>2018-Q1</td>\n",
       "      <td>Feb</td>\n",
       "      <td>2018-W06</td>\n",
       "    </tr>\n",
       "    <tr>\n",
       "      <th>12002</th>\n",
       "      <td>2018-02-11</td>\n",
       "      <td>1513</td>\n",
       "      <td>POINT(-88.6 29.1)</td>\n",
       "      <td>2018</td>\n",
       "      <td>2018-Q1</td>\n",
       "      <td>Feb</td>\n",
       "      <td>2018-W06</td>\n",
       "    </tr>\n",
       "    <tr>\n",
       "      <th>12688</th>\n",
       "      <td>2018-02-11</td>\n",
       "      <td>1686</td>\n",
       "      <td>POINT(-88.7 29)</td>\n",
       "      <td>2018</td>\n",
       "      <td>2018-Q1</td>\n",
       "      <td>Feb</td>\n",
       "      <td>2018-W06</td>\n",
       "    </tr>\n",
       "    <tr>\n",
       "      <th>19811</th>\n",
       "      <td>2018-02-22</td>\n",
       "      <td>1559</td>\n",
       "      <td>POINT(-96.6 32.7)</td>\n",
       "      <td>2018</td>\n",
       "      <td>2018-Q1</td>\n",
       "      <td>Feb</td>\n",
       "      <td>2018-W08</td>\n",
       "    </tr>\n",
       "    <tr>\n",
       "      <th>24825</th>\n",
       "      <td>2018-02-25</td>\n",
       "      <td>1741</td>\n",
       "      <td>POINT(-98 29)</td>\n",
       "      <td>2018</td>\n",
       "      <td>2018-Q1</td>\n",
       "      <td>Feb</td>\n",
       "      <td>2018-W08</td>\n",
       "    </tr>\n",
       "    <tr>\n",
       "      <th>24906</th>\n",
       "      <td>2018-02-25</td>\n",
       "      <td>1833</td>\n",
       "      <td>POINT(-98.7 28.9)</td>\n",
       "      <td>2018</td>\n",
       "      <td>2018-Q1</td>\n",
       "      <td>Feb</td>\n",
       "      <td>2018-W08</td>\n",
       "    </tr>\n",
       "    <tr>\n",
       "      <th>24907</th>\n",
       "      <td>2018-02-25</td>\n",
       "      <td>1655</td>\n",
       "      <td>POINT(-98.6 28.9)</td>\n",
       "      <td>2018</td>\n",
       "      <td>2018-Q1</td>\n",
       "      <td>Feb</td>\n",
       "      <td>2018-W08</td>\n",
       "    </tr>\n",
       "    <tr>\n",
       "      <th>277506</th>\n",
       "      <td>2018-08-16</td>\n",
       "      <td>1878</td>\n",
       "      <td>POINT(-89.7 31.5)</td>\n",
       "      <td>2018</td>\n",
       "      <td>2018-Q3</td>\n",
       "      <td>Aug</td>\n",
       "      <td>2018-W33</td>\n",
       "    </tr>\n",
       "    <tr>\n",
       "      <th>278382</th>\n",
       "      <td>2018-08-16</td>\n",
       "      <td>1902</td>\n",
       "      <td>POINT(-96.2 36.1)</td>\n",
       "      <td>2018</td>\n",
       "      <td>2018-Q3</td>\n",
       "      <td>Aug</td>\n",
       "      <td>2018-W33</td>\n",
       "    </tr>\n",
       "    <tr>\n",
       "      <th>278383</th>\n",
       "      <td>2018-08-16</td>\n",
       "      <td>2142</td>\n",
       "      <td>POINT(-96.1 36.1)</td>\n",
       "      <td>2018</td>\n",
       "      <td>2018-Q3</td>\n",
       "      <td>Aug</td>\n",
       "      <td>2018-W33</td>\n",
       "    </tr>\n",
       "    <tr>\n",
       "      <th>280453</th>\n",
       "      <td>2018-08-17</td>\n",
       "      <td>2031</td>\n",
       "      <td>POINT(-89.9 35.9)</td>\n",
       "      <td>2018</td>\n",
       "      <td>2018-Q3</td>\n",
       "      <td>Aug</td>\n",
       "      <td>2018-W33</td>\n",
       "    </tr>\n",
       "    <tr>\n",
       "      <th>280830</th>\n",
       "      <td>2018-08-17</td>\n",
       "      <td>2061</td>\n",
       "      <td>POINT(-90.2 36.1)</td>\n",
       "      <td>2018</td>\n",
       "      <td>2018-Q3</td>\n",
       "      <td>Aug</td>\n",
       "      <td>2018-W33</td>\n",
       "    </tr>\n",
       "    <tr>\n",
       "      <th>284320</th>\n",
       "      <td>2018-08-17</td>\n",
       "      <td>1767</td>\n",
       "      <td>POINT(-90.1 36)</td>\n",
       "      <td>2018</td>\n",
       "      <td>2018-Q3</td>\n",
       "      <td>Aug</td>\n",
       "      <td>2018-W33</td>\n",
       "    </tr>\n",
       "    <tr>\n",
       "      <th>287168</th>\n",
       "      <td>2018-08-17</td>\n",
       "      <td>1629</td>\n",
       "      <td>POINT(-89.4 35.7)</td>\n",
       "      <td>2018</td>\n",
       "      <td>2018-Q3</td>\n",
       "      <td>Aug</td>\n",
       "      <td>2018-W33</td>\n",
       "    </tr>\n",
       "    <tr>\n",
       "      <th>302758</th>\n",
       "      <td>2018-08-20</td>\n",
       "      <td>2211</td>\n",
       "      <td>POINT(-92.5 35.5)</td>\n",
       "      <td>2018</td>\n",
       "      <td>2018-Q3</td>\n",
       "      <td>Aug</td>\n",
       "      <td>2018-W34</td>\n",
       "    </tr>\n",
       "  </tbody>\n",
       "</table>\n",
       "</div>"
      ],
      "text/plain": [
       "             date  number_of_strikes  center_point_geom  Year   Quater Month  \\\n",
       "2462   2018-01-11               1611    POINT(-76 24.1)  2018  2018-Q1   Jan   \n",
       "11517  2018-02-10               1899  POINT(-95.5 28.1)  2018  2018-Q1   Feb   \n",
       "12002  2018-02-11               1513  POINT(-88.6 29.1)  2018  2018-Q1   Feb   \n",
       "12688  2018-02-11               1686    POINT(-88.7 29)  2018  2018-Q1   Feb   \n",
       "19811  2018-02-22               1559  POINT(-96.6 32.7)  2018  2018-Q1   Feb   \n",
       "24825  2018-02-25               1741      POINT(-98 29)  2018  2018-Q1   Feb   \n",
       "24906  2018-02-25               1833  POINT(-98.7 28.9)  2018  2018-Q1   Feb   \n",
       "24907  2018-02-25               1655  POINT(-98.6 28.9)  2018  2018-Q1   Feb   \n",
       "277506 2018-08-16               1878  POINT(-89.7 31.5)  2018  2018-Q3   Aug   \n",
       "278382 2018-08-16               1902  POINT(-96.2 36.1)  2018  2018-Q3   Aug   \n",
       "278383 2018-08-16               2142  POINT(-96.1 36.1)  2018  2018-Q3   Aug   \n",
       "280453 2018-08-17               2031  POINT(-89.9 35.9)  2018  2018-Q3   Aug   \n",
       "280830 2018-08-17               2061  POINT(-90.2 36.1)  2018  2018-Q3   Aug   \n",
       "284320 2018-08-17               1767    POINT(-90.1 36)  2018  2018-Q3   Aug   \n",
       "287168 2018-08-17               1629  POINT(-89.4 35.7)  2018  2018-Q3   Aug   \n",
       "302758 2018-08-20               2211  POINT(-92.5 35.5)  2018  2018-Q3   Aug   \n",
       "\n",
       "            Week  \n",
       "2462    2018-W02  \n",
       "11517   2018-W06  \n",
       "12002   2018-W06  \n",
       "12688   2018-W06  \n",
       "19811   2018-W08  \n",
       "24825   2018-W08  \n",
       "24906   2018-W08  \n",
       "24907   2018-W08  \n",
       "277506  2018-W33  \n",
       "278382  2018-W33  \n",
       "278383  2018-W33  \n",
       "280453  2018-W33  \n",
       "280830  2018-W33  \n",
       "284320  2018-W33  \n",
       "287168  2018-W33  \n",
       "302758  2018-W34  "
      ]
     },
     "execution_count": 89,
     "metadata": {},
     "output_type": "execute_result"
    }
   ],
   "source": [
    "Strikes_above1500 df[df[\"number_of_strikes\"] >1500]"
   ]
  },
  {
   "cell_type": "code",
   "execution_count": 90,
   "id": "f54b9959-5d85-4a5d-9d84-836c45a18cd5",
   "metadata": {},
   "outputs": [
    {
     "data": {
      "text/html": [
       "<div>\n",
       "<style scoped>\n",
       "    .dataframe tbody tr th:only-of-type {\n",
       "        vertical-align: middle;\n",
       "    }\n",
       "\n",
       "    .dataframe tbody tr th {\n",
       "        vertical-align: top;\n",
       "    }\n",
       "\n",
       "    .dataframe thead th {\n",
       "        text-align: right;\n",
       "    }\n",
       "</style>\n",
       "<table border=\"1\" class=\"dataframe\">\n",
       "  <thead>\n",
       "    <tr style=\"text-align: right;\">\n",
       "      <th></th>\n",
       "      <th>date</th>\n",
       "      <th>number_of_strikes</th>\n",
       "      <th>center_point_geom</th>\n",
       "      <th>Year</th>\n",
       "      <th>Quater</th>\n",
       "      <th>Month</th>\n",
       "      <th>Week</th>\n",
       "    </tr>\n",
       "  </thead>\n",
       "  <tbody>\n",
       "    <tr>\n",
       "      <th>0</th>\n",
       "      <td>2018-01-03</td>\n",
       "      <td>194</td>\n",
       "      <td>POINT(-75 27)</td>\n",
       "      <td>2018</td>\n",
       "      <td>2018-Q1</td>\n",
       "      <td>Jan</td>\n",
       "      <td>2018-W01</td>\n",
       "    </tr>\n",
       "    <tr>\n",
       "      <th>1</th>\n",
       "      <td>2018-01-03</td>\n",
       "      <td>41</td>\n",
       "      <td>POINT(-78.4 29)</td>\n",
       "      <td>2018</td>\n",
       "      <td>2018-Q1</td>\n",
       "      <td>Jan</td>\n",
       "      <td>2018-W01</td>\n",
       "    </tr>\n",
       "    <tr>\n",
       "      <th>2</th>\n",
       "      <td>2018-01-03</td>\n",
       "      <td>33</td>\n",
       "      <td>POINT(-73.9 27)</td>\n",
       "      <td>2018</td>\n",
       "      <td>2018-Q1</td>\n",
       "      <td>Jan</td>\n",
       "      <td>2018-W01</td>\n",
       "    </tr>\n",
       "  </tbody>\n",
       "</table>\n",
       "</div>"
      ],
      "text/plain": [
       "        date  number_of_strikes center_point_geom  Year   Quater Month  \\\n",
       "0 2018-01-03                194     POINT(-75 27)  2018  2018-Q1   Jan   \n",
       "1 2018-01-03                 41   POINT(-78.4 29)  2018  2018-Q1   Jan   \n",
       "2 2018-01-03                 33   POINT(-73.9 27)  2018  2018-Q1   Jan   \n",
       "\n",
       "       Week  \n",
       "0  2018-W01  \n",
       "1  2018-W01  \n",
       "2  2018-W01  "
      ]
     },
     "execution_count": 90,
     "metadata": {},
     "output_type": "execute_result"
    }
   ],
   "source": [
    "df.head(3)"
   ]
  },
  {
   "cell_type": "code",
   "execution_count": 94,
   "id": "66c19835-a264-43ec-9221-d337139206d9",
   "metadata": {},
   "outputs": [
    {
     "name": "stderr",
     "output_type": "stream",
     "text": [
      "C:\\Users\\spark tech\\AppData\\Local\\Temp\\ipykernel_7788\\392291269.py:2: UserWarning: \n",
      "\n",
      "`distplot` is a deprecated function and will be removed in seaborn v0.14.0.\n",
      "\n",
      "Please adapt your code to use either `displot` (a figure-level function with\n",
      "similar flexibility) or `histplot` (an axes-level function for histograms).\n",
      "\n",
      "For a guide to updating your code to use the new functions, please see\n",
      "https://gist.github.com/mwaskom/de44147ed2974457ad6372750bbe5751\n",
      "\n",
      "  sns.distplot(df[\"number_of_strikes\"])\n",
      "C:\\Users\\spark tech\\anaconda3\\anaconda new\\Lib\\site-packages\\seaborn\\_oldcore.py:1119: FutureWarning: use_inf_as_na option is deprecated and will be removed in a future version. Convert inf values to NaN before operating instead.\n",
      "  with pd.option_context('mode.use_inf_as_na', True):\n"
     ]
    },
    {
     "data": {
      "image/png": "[encoded data removed]",
      "text/plain": [
       "<Figure size 1600x500 with 1 Axes>"
      ]
     },
     "metadata": {},
     "output_type": "display_data"
    }
   ],
   "source": [
    "plt.figure(figsize = (16,5))\n",
    "sns.distplot(df[\"number_of_strikes\"])\n",
    "plt.show()"
   ]
  },
  {
   "cell_type": "code",
   "execution_count": 95,
   "id": "1012b880-222e-4462-ad9e-eec85966e7f5",
   "metadata": {},
   "outputs": [
    {
     "data": {
      "text/plain": [
       "13.114034587352235"
      ]
     },
     "execution_count": 95,
     "metadata": {},
     "output_type": "execute_result"
    }
   ],
   "source": [
    "df[\"number_of_strikes\"].mean()"
   ]
  },
  {
   "cell_type": "code",
   "execution_count": 96,
   "id": "2831add5-51b2-42a2-824a-269fe10aebdd",
   "metadata": {},
   "outputs": [
    {
     "data": {
      "text/plain": [
       "4.0"
      ]
     },
     "execution_count": 96,
     "metadata": {},
     "output_type": "execute_result"
    }
   ],
   "source": [
    "df[\"number_of_strikes\"].median()"
   ]
  },
  {
   "cell_type": "code",
   "execution_count": 97,
   "id": "6bb015a2-b1fe-4eec-98f2-1b6d6aba5cb6",
   "metadata": {},
   "outputs": [
    {
     "data": {
      "text/plain": [
       "0    1\n",
       "Name: number_of_strikes, dtype: int64"
      ]
     },
     "execution_count": 97,
     "metadata": {},
     "output_type": "execute_result"
    }
   ],
   "source": [
    "df[\"number_of_strikes\"].mode()"
   ]
  },
  {
   "cell_type": "code",
   "execution_count": 98,
   "id": "8ec27ff1-0db9-417d-bb95-2cb622fb9984",
   "metadata": {},
   "outputs": [
    {
     "data": {
      "text/plain": [
       "32.12099150163301"
      ]
     },
     "execution_count": 98,
     "metadata": {},
     "output_type": "execute_result"
    }
   ],
   "source": [
    "df[\"number_of_strikes\"].std()"
   ]
  },
  {
   "cell_type": "code",
   "execution_count": 99,
   "id": "8ca0abc0-4d61-4ca9-aa12-28e484e84d5c",
   "metadata": {},
   "outputs": [
    {
     "data": {
      "text/plain": [
       "<Axes: >"
      ]
     },
     "execution_count": 99,
     "metadata": {},
     "output_type": "execute_result"
    },
    {
     "data": {
      "image/png": "[encoded data removed]",
      "text/plain": [
       "<Figure size 640x480 with 1 Axes>"
      ]
     },
     "metadata": {},
     "output_type": "display_data"
    }
   ],
   "source": [
    "sns.boxplot(df[\"number_of_strikes\"])"
   ]
  },
  {
   "cell_type": "code",
   "execution_count": 100,
   "id": "8f65e5b5-efa3-4fd2-bc7c-ebc93a22ff91",
   "metadata": {},
   "outputs": [
    {
     "name": "stdout",
     "output_type": "stream",
     "text": [
      "Upper_Bound 109.47700909225127\n",
      "Lower_Bound -83.24893991754679\n"
     ]
    }
   ],
   "source": [
    "print(\"Upper_Bound\",df[\"number_of_strikes\"].mean() + 3*df[\"number_of_strikes\"].std())\n",
    "print(\"Lower_Bound\",df[\"number_of_strikes\"].mean() - 3*df[\"number_of_strikes\"].std())"
   ]
  },
  {
   "cell_type": "code",
   "execution_count": 118,
   "id": "41654e5d-ed94-4d94-b844-05237fd82736",
   "metadata": {},
   "outputs": [],
   "source": [
    "outliers= df[(df[\"number_of_strikes\"]> 109) | (df[\"number_of_strikes\"]<-83.2)].head()"
   ]
  },
  {
   "cell_type": "code",
   "execution_count": 119,
   "id": "c5948692-7d59-4411-a9dc-cbba407d9a5b",
   "metadata": {},
   "outputs": [
    {
     "data": {
      "text/html": [
       "<div>\n",
       "<style scoped>\n",
       "    .dataframe tbody tr th:only-of-type {\n",
       "        vertical-align: middle;\n",
       "    }\n",
       "\n",
       "    .dataframe tbody tr th {\n",
       "        vertical-align: top;\n",
       "    }\n",
       "\n",
       "    .dataframe thead th {\n",
       "        text-align: right;\n",
       "    }\n",
       "</style>\n",
       "<table border=\"1\" class=\"dataframe\">\n",
       "  <thead>\n",
       "    <tr style=\"text-align: right;\">\n",
       "      <th></th>\n",
       "      <th>date</th>\n",
       "      <th>number_of_strikes</th>\n",
       "      <th>center_point_geom</th>\n",
       "      <th>Year</th>\n",
       "      <th>Quater</th>\n",
       "      <th>Month</th>\n",
       "      <th>Week</th>\n",
       "    </tr>\n",
       "  </thead>\n",
       "  <tbody>\n",
       "    <tr>\n",
       "      <th>0</th>\n",
       "      <td>2018-01-03</td>\n",
       "      <td>194</td>\n",
       "      <td>POINT(-75 27)</td>\n",
       "      <td>2018</td>\n",
       "      <td>2018-Q1</td>\n",
       "      <td>Jan</td>\n",
       "      <td>2018-W01</td>\n",
       "    </tr>\n",
       "    <tr>\n",
       "      <th>5</th>\n",
       "      <td>2018-01-03</td>\n",
       "      <td>119</td>\n",
       "      <td>POINT(-78 28)</td>\n",
       "      <td>2018</td>\n",
       "      <td>2018-Q1</td>\n",
       "      <td>Jan</td>\n",
       "      <td>2018-W01</td>\n",
       "    </tr>\n",
       "    <tr>\n",
       "      <th>9</th>\n",
       "      <td>2018-01-03</td>\n",
       "      <td>119</td>\n",
       "      <td>POINT(-78.6 28)</td>\n",
       "      <td>2018</td>\n",
       "      <td>2018-Q1</td>\n",
       "      <td>Jan</td>\n",
       "      <td>2018-W01</td>\n",
       "    </tr>\n",
       "    <tr>\n",
       "      <th>11</th>\n",
       "      <td>2018-01-03</td>\n",
       "      <td>158</td>\n",
       "      <td>POINT(-78.4 28)</td>\n",
       "      <td>2018</td>\n",
       "      <td>2018-Q1</td>\n",
       "      <td>Jan</td>\n",
       "      <td>2018-W01</td>\n",
       "    </tr>\n",
       "    <tr>\n",
       "      <th>12</th>\n",
       "      <td>2018-01-03</td>\n",
       "      <td>168</td>\n",
       "      <td>POINT(-78.3 28)</td>\n",
       "      <td>2018</td>\n",
       "      <td>2018-Q1</td>\n",
       "      <td>Jan</td>\n",
       "      <td>2018-W01</td>\n",
       "    </tr>\n",
       "  </tbody>\n",
       "</table>\n",
       "</div>"
      ],
      "text/plain": [
       "         date  number_of_strikes center_point_geom  Year   Quater Month  \\\n",
       "0  2018-01-03                194     POINT(-75 27)  2018  2018-Q1   Jan   \n",
       "5  2018-01-03                119     POINT(-78 28)  2018  2018-Q1   Jan   \n",
       "9  2018-01-03                119   POINT(-78.6 28)  2018  2018-Q1   Jan   \n",
       "11 2018-01-03                158   POINT(-78.4 28)  2018  2018-Q1   Jan   \n",
       "12 2018-01-03                168   POINT(-78.3 28)  2018  2018-Q1   Jan   \n",
       "\n",
       "        Week  \n",
       "0   2018-W01  \n",
       "5   2018-W01  \n",
       "9   2018-W01  \n",
       "11  2018-W01  \n",
       "12  2018-W01  "
      ]
     },
     "execution_count": 119,
     "metadata": {},
     "output_type": "execute_result"
    }
   ],
   "source": [
    "outliers"
   ]
  },
  {
   "cell_type": "code",
   "execution_count": 104,
   "id": "e7f1a7d2-016b-44b4-aadf-6acc6f5055d1",
   "metadata": {},
   "outputs": [
    {
     "data": {
      "text/html": [
       "<div>\n",
       "<style scoped>\n",
       "    .dataframe tbody tr th:only-of-type {\n",
       "        vertical-align: middle;\n",
       "    }\n",
       "\n",
       "    .dataframe tbody tr th {\n",
       "        vertical-align: top;\n",
       "    }\n",
       "\n",
       "    .dataframe thead th {\n",
       "        text-align: right;\n",
       "    }\n",
       "</style>\n",
       "<table border=\"1\" class=\"dataframe\">\n",
       "  <thead>\n",
       "    <tr style=\"text-align: right;\">\n",
       "      <th></th>\n",
       "      <th>date</th>\n",
       "      <th>number_of_strikes</th>\n",
       "      <th>center_point_geom</th>\n",
       "      <th>Year</th>\n",
       "      <th>Quater</th>\n",
       "      <th>Month</th>\n",
       "      <th>Week</th>\n",
       "    </tr>\n",
       "  </thead>\n",
       "  <tbody>\n",
       "    <tr>\n",
       "      <th>0</th>\n",
       "      <td>2018-01-03</td>\n",
       "      <td>194</td>\n",
       "      <td>POINT(-75 27)</td>\n",
       "      <td>2018</td>\n",
       "      <td>2018-Q1</td>\n",
       "      <td>Jan</td>\n",
       "      <td>2018-W01</td>\n",
       "    </tr>\n",
       "    <tr>\n",
       "      <th>5</th>\n",
       "      <td>2018-01-03</td>\n",
       "      <td>119</td>\n",
       "      <td>POINT(-78 28)</td>\n",
       "      <td>2018</td>\n",
       "      <td>2018-Q1</td>\n",
       "      <td>Jan</td>\n",
       "      <td>2018-W01</td>\n",
       "    </tr>\n",
       "    <tr>\n",
       "      <th>9</th>\n",
       "      <td>2018-01-03</td>\n",
       "      <td>119</td>\n",
       "      <td>POINT(-78.6 28)</td>\n",
       "      <td>2018</td>\n",
       "      <td>2018-Q1</td>\n",
       "      <td>Jan</td>\n",
       "      <td>2018-W01</td>\n",
       "    </tr>\n",
       "    <tr>\n",
       "      <th>11</th>\n",
       "      <td>2018-01-03</td>\n",
       "      <td>158</td>\n",
       "      <td>POINT(-78.4 28)</td>\n",
       "      <td>2018</td>\n",
       "      <td>2018-Q1</td>\n",
       "      <td>Jan</td>\n",
       "      <td>2018-W01</td>\n",
       "    </tr>\n",
       "    <tr>\n",
       "      <th>12</th>\n",
       "      <td>2018-01-03</td>\n",
       "      <td>168</td>\n",
       "      <td>POINT(-78.3 28)</td>\n",
       "      <td>2018</td>\n",
       "      <td>2018-Q1</td>\n",
       "      <td>Jan</td>\n",
       "      <td>2018-W01</td>\n",
       "    </tr>\n",
       "  </tbody>\n",
       "</table>\n",
       "</div>"
      ],
      "text/plain": [
       "         date  number_of_strikes center_point_geom  Year   Quater Month  \\\n",
       "0  2018-01-03                194     POINT(-75 27)  2018  2018-Q1   Jan   \n",
       "5  2018-01-03                119     POINT(-78 28)  2018  2018-Q1   Jan   \n",
       "9  2018-01-03                119   POINT(-78.6 28)  2018  2018-Q1   Jan   \n",
       "11 2018-01-03                158   POINT(-78.4 28)  2018  2018-Q1   Jan   \n",
       "12 2018-01-03                168   POINT(-78.3 28)  2018  2018-Q1   Jan   \n",
       "\n",
       "        Week  \n",
       "0   2018-W01  \n",
       "5   2018-W01  \n",
       "9   2018-W01  \n",
       "11  2018-W01  \n",
       "12  2018-W01  "
      ]
     },
     "execution_count": 104,
     "metadata": {},
     "output_type": "execute_result"
    }
   ],
   "source": [
    "outliers"
   ]
  },
  {
   "cell_type": "code",
   "execution_count": 120,
   "id": "283a17c7-3c6e-4cff-a493-c377bea92c6d",
   "metadata": {},
   "outputs": [
    {
     "data": {
      "text/plain": [
       "1"
      ]
     },
     "execution_count": 120,
     "metadata": {},
     "output_type": "execute_result"
    }
   ],
   "source": [
    "df[\"number_of_strikes\"].min()"
   ]
  },
  {
   "cell_type": "code",
   "execution_count": 109,
   "id": "b9bd2b93-eadd-4f2c-bcdb-2b5ae9e87f4e",
   "metadata": {},
   "outputs": [
    {
     "data": {
      "text/plain": [
       "array([194,  41,  33, ...,  30,  30,  30], dtype=int64)"
      ]
     },
     "execution_count": 109,
     "metadata": {},
     "output_type": "execute_result"
    }
   ],
   "source": [
    "df[\"number_of_strikes\"].values"
   ]
  },
  {
   "cell_type": "code",
   "execution_count": 110,
   "id": "d1e411f7-ace0-4410-b016-e10305b7cea2",
   "metadata": {},
   "outputs": [
    {
     "data": {
      "text/plain": [
       "(3401012, 7)"
      ]
     },
     "execution_count": 110,
     "metadata": {},
     "output_type": "execute_result"
    }
   ],
   "source": [
    "df.shape"
   ]
  },
  {
   "cell_type": "code",
   "execution_count": 112,
   "id": "561f98da-c852-46fa-8ef9-e95a78b773d9",
   "metadata": {},
   "outputs": [
    {
     "data": {
      "text/plain": [
       "(55702, 7)"
      ]
     },
     "execution_count": 112,
     "metadata": {},
     "output_type": "execute_result"
    }
   ],
   "source": [
    "df[df[\"number_of_strikes\"]> 109].shape"
   ]
  },
  {
   "cell_type": "code",
   "execution_count": 122,
   "id": "127fc1d2-23a7-4835-9f77-6e3d7c91616a",
   "metadata": {},
   "outputs": [
    {
     "data": {
      "text/plain": [
       "count    3.401012e+06\n",
       "mean     1.311403e+01\n",
       "std      3.212099e+01\n",
       "min      1.000000e+00\n",
       "25%      2.000000e+00\n",
       "50%      4.000000e+00\n",
       "75%      1.200000e+01\n",
       "max      2.211000e+03\n",
       "Name: number_of_strikes, dtype: float64"
      ]
     },
     "execution_count": 122,
     "metadata": {},
     "output_type": "execute_result"
    }
   ],
   "source": [
    "df[\"number_of_strikes\"].describe()"
   ]
  },
  {
   "cell_type": "code",
   "execution_count": 123,
   "id": "f4c176b7-e265-4196-a8cc-321fe6ed685c",
   "metadata": {},
   "outputs": [
    {
     "data": {
      "text/html": [
       "<div>\n",
       "<style scoped>\n",
       "    .dataframe tbody tr th:only-of-type {\n",
       "        vertical-align: middle;\n",
       "    }\n",
       "\n",
       "    .dataframe tbody tr th {\n",
       "        vertical-align: top;\n",
       "    }\n",
       "\n",
       "    .dataframe thead th {\n",
       "        text-align: right;\n",
       "    }\n",
       "</style>\n",
       "<table border=\"1\" class=\"dataframe\">\n",
       "  <thead>\n",
       "    <tr style=\"text-align: right;\">\n",
       "      <th></th>\n",
       "      <th>date</th>\n",
       "      <th>number_of_strikes</th>\n",
       "      <th>center_point_geom</th>\n",
       "      <th>Year</th>\n",
       "      <th>Quater</th>\n",
       "      <th>Month</th>\n",
       "      <th>Week</th>\n",
       "    </tr>\n",
       "  </thead>\n",
       "  <tbody>\n",
       "    <tr>\n",
       "      <th>0</th>\n",
       "      <td>2018-01-03</td>\n",
       "      <td>194</td>\n",
       "      <td>POINT(-75 27)</td>\n",
       "      <td>2018</td>\n",
       "      <td>2018-Q1</td>\n",
       "      <td>Jan</td>\n",
       "      <td>2018-W01</td>\n",
       "    </tr>\n",
       "    <tr>\n",
       "      <th>5</th>\n",
       "      <td>2018-01-03</td>\n",
       "      <td>119</td>\n",
       "      <td>POINT(-78 28)</td>\n",
       "      <td>2018</td>\n",
       "      <td>2018-Q1</td>\n",
       "      <td>Jan</td>\n",
       "      <td>2018-W01</td>\n",
       "    </tr>\n",
       "    <tr>\n",
       "      <th>9</th>\n",
       "      <td>2018-01-03</td>\n",
       "      <td>119</td>\n",
       "      <td>POINT(-78.6 28)</td>\n",
       "      <td>2018</td>\n",
       "      <td>2018-Q1</td>\n",
       "      <td>Jan</td>\n",
       "      <td>2018-W01</td>\n",
       "    </tr>\n",
       "    <tr>\n",
       "      <th>11</th>\n",
       "      <td>2018-01-03</td>\n",
       "      <td>158</td>\n",
       "      <td>POINT(-78.4 28)</td>\n",
       "      <td>2018</td>\n",
       "      <td>2018-Q1</td>\n",
       "      <td>Jan</td>\n",
       "      <td>2018-W01</td>\n",
       "    </tr>\n",
       "    <tr>\n",
       "      <th>12</th>\n",
       "      <td>2018-01-03</td>\n",
       "      <td>168</td>\n",
       "      <td>POINT(-78.3 28)</td>\n",
       "      <td>2018</td>\n",
       "      <td>2018-Q1</td>\n",
       "      <td>Jan</td>\n",
       "      <td>2018-W01</td>\n",
       "    </tr>\n",
       "    <tr>\n",
       "      <th>...</th>\n",
       "      <td>...</td>\n",
       "      <td>...</td>\n",
       "      <td>...</td>\n",
       "      <td>...</td>\n",
       "      <td>...</td>\n",
       "      <td>...</td>\n",
       "      <td>...</td>\n",
       "    </tr>\n",
       "    <tr>\n",
       "      <th>404515</th>\n",
       "      <td>2018-12-27</td>\n",
       "      <td>157</td>\n",
       "      <td>POINT(-93 30.1)</td>\n",
       "      <td>2018</td>\n",
       "      <td>2018-Q4</td>\n",
       "      <td>Dec</td>\n",
       "      <td>2018-W52</td>\n",
       "    </tr>\n",
       "    <tr>\n",
       "      <th>404521</th>\n",
       "      <td>2018-12-27</td>\n",
       "      <td>150</td>\n",
       "      <td>POINT(-92.9 30.1)</td>\n",
       "      <td>2018</td>\n",
       "      <td>2018-Q4</td>\n",
       "      <td>Dec</td>\n",
       "      <td>2018-W52</td>\n",
       "    </tr>\n",
       "    <tr>\n",
       "      <th>404522</th>\n",
       "      <td>2018-12-27</td>\n",
       "      <td>115</td>\n",
       "      <td>POINT(-92.8 30.1)</td>\n",
       "      <td>2018</td>\n",
       "      <td>2018-Q4</td>\n",
       "      <td>Dec</td>\n",
       "      <td>2018-W52</td>\n",
       "    </tr>\n",
       "    <tr>\n",
       "      <th>404526</th>\n",
       "      <td>2018-12-27</td>\n",
       "      <td>118</td>\n",
       "      <td>POINT(-93.2 29.9)</td>\n",
       "      <td>2018</td>\n",
       "      <td>2018-Q4</td>\n",
       "      <td>Dec</td>\n",
       "      <td>2018-W52</td>\n",
       "    </tr>\n",
       "    <tr>\n",
       "      <th>404611</th>\n",
       "      <td>2018-12-27</td>\n",
       "      <td>111</td>\n",
       "      <td>POINT(-91.9 30.4)</td>\n",
       "      <td>2018</td>\n",
       "      <td>2018-Q4</td>\n",
       "      <td>Dec</td>\n",
       "      <td>2018-W52</td>\n",
       "    </tr>\n",
       "  </tbody>\n",
       "</table>\n",
       "<p>55702 rows × 7 columns</p>\n",
       "</div>"
      ],
      "text/plain": [
       "             date  number_of_strikes  center_point_geom  Year   Quater Month  \\\n",
       "0      2018-01-03                194      POINT(-75 27)  2018  2018-Q1   Jan   \n",
       "5      2018-01-03                119      POINT(-78 28)  2018  2018-Q1   Jan   \n",
       "9      2018-01-03                119    POINT(-78.6 28)  2018  2018-Q1   Jan   \n",
       "11     2018-01-03                158    POINT(-78.4 28)  2018  2018-Q1   Jan   \n",
       "12     2018-01-03                168    POINT(-78.3 28)  2018  2018-Q1   Jan   \n",
       "...           ...                ...                ...   ...      ...   ...   \n",
       "404515 2018-12-27                157    POINT(-93 30.1)  2018  2018-Q4   Dec   \n",
       "404521 2018-12-27                150  POINT(-92.9 30.1)  2018  2018-Q4   Dec   \n",
       "404522 2018-12-27                115  POINT(-92.8 30.1)  2018  2018-Q4   Dec   \n",
       "404526 2018-12-27                118  POINT(-93.2 29.9)  2018  2018-Q4   Dec   \n",
       "404611 2018-12-27                111  POINT(-91.9 30.4)  2018  2018-Q4   Dec   \n",
       "\n",
       "            Week  \n",
       "0       2018-W01  \n",
       "5       2018-W01  \n",
       "9       2018-W01  \n",
       "11      2018-W01  \n",
       "12      2018-W01  \n",
       "...          ...  \n",
       "404515  2018-W52  \n",
       "404521  2018-W52  \n",
       "404522  2018-W52  \n",
       "404526  2018-W52  \n",
       "404611  2018-W52  \n",
       "\n",
       "[55702 rows x 7 columns]"
      ]
     },
     "execution_count": 123,
     "metadata": {},
     "output_type": "execute_result"
    }
   ],
   "source": [
    "df[df[\"number_of_strikes\"]>109]"
   ]
  },
  {
   "cell_type": "code",
   "execution_count": 124,
   "id": "f0523233-8de8-4949-9179-eef83f34ea38",
   "metadata": {},
   "outputs": [],
   "source": [
    "with_out_outlier = df[(df[\"number_of_strikes\"]< 109) & (df[\"number_of_strikes\"]>-83.2)]"
   ]
  },
  {
   "cell_type": "code",
   "execution_count": 126,
   "id": "9f776c0e-d511-4fd4-b1ff-e5fe1f28070b",
   "metadata": {},
   "outputs": [
    {
     "data": {
      "text/plain": [
       "(3344699, 7)"
      ]
     },
     "execution_count": 126,
     "metadata": {},
     "output_type": "execute_result"
    }
   ],
   "source": [
    "with_out_outlier.shape"
   ]
  },
  {
   "cell_type": "code",
   "execution_count": 127,
   "id": "5dbe5103-9fea-4842-9b1a-71a9583e6c79",
   "metadata": {},
   "outputs": [
    {
     "data": {
      "text/plain": [
       "(3401012, 7)"
      ]
     },
     "execution_count": 127,
     "metadata": {},
     "output_type": "execute_result"
    }
   ],
   "source": [
    "df.shape"
   ]
  },
  {
   "cell_type": "code",
   "execution_count": 128,
   "id": "71a7e184-e722-44bf-aa42-cb0e4fe9b8f9",
   "metadata": {},
   "outputs": [
    {
     "data": {
      "text/plain": [
       "56313"
      ]
     },
     "execution_count": 128,
     "metadata": {},
     "output_type": "execute_result"
    }
   ],
   "source": [
    "3401012-3344699"
   ]
  },
  {
   "cell_type": "code",
   "execution_count": 132,
   "id": "6ee51e6c-c398-4822-bc35-a3ab4f5e6b2d",
   "metadata": {},
   "outputs": [
    {
     "data": {
      "text/html": [
       "<div>\n",
       "<style scoped>\n",
       "    .dataframe tbody tr th:only-of-type {\n",
       "        vertical-align: middle;\n",
       "    }\n",
       "\n",
       "    .dataframe tbody tr th {\n",
       "        vertical-align: top;\n",
       "    }\n",
       "\n",
       "    .dataframe thead th {\n",
       "        text-align: right;\n",
       "    }\n",
       "</style>\n",
       "<table border=\"1\" class=\"dataframe\">\n",
       "  <thead>\n",
       "    <tr style=\"text-align: right;\">\n",
       "      <th></th>\n",
       "      <th>date</th>\n",
       "      <th>number_of_strikes</th>\n",
       "      <th>center_point_geom</th>\n",
       "      <th>Year</th>\n",
       "      <th>Quater</th>\n",
       "      <th>Month</th>\n",
       "      <th>Week</th>\n",
       "    </tr>\n",
       "  </thead>\n",
       "  <tbody>\n",
       "    <tr>\n",
       "      <th>1</th>\n",
       "      <td>2018-01-03</td>\n",
       "      <td>41</td>\n",
       "      <td>POINT(-78.4 29)</td>\n",
       "      <td>2018</td>\n",
       "      <td>2018-Q1</td>\n",
       "      <td>Jan</td>\n",
       "      <td>2018-W01</td>\n",
       "    </tr>\n",
       "    <tr>\n",
       "      <th>2</th>\n",
       "      <td>2018-01-03</td>\n",
       "      <td>33</td>\n",
       "      <td>POINT(-73.9 27)</td>\n",
       "      <td>2018</td>\n",
       "      <td>2018-Q1</td>\n",
       "      <td>Jan</td>\n",
       "      <td>2018-W01</td>\n",
       "    </tr>\n",
       "    <tr>\n",
       "      <th>3</th>\n",
       "      <td>2018-01-03</td>\n",
       "      <td>38</td>\n",
       "      <td>POINT(-73.8 27)</td>\n",
       "      <td>2018</td>\n",
       "      <td>2018-Q1</td>\n",
       "      <td>Jan</td>\n",
       "      <td>2018-W01</td>\n",
       "    </tr>\n",
       "    <tr>\n",
       "      <th>4</th>\n",
       "      <td>2018-01-03</td>\n",
       "      <td>92</td>\n",
       "      <td>POINT(-79 28)</td>\n",
       "      <td>2018</td>\n",
       "      <td>2018-Q1</td>\n",
       "      <td>Jan</td>\n",
       "      <td>2018-W01</td>\n",
       "    </tr>\n",
       "    <tr>\n",
       "      <th>6</th>\n",
       "      <td>2018-01-03</td>\n",
       "      <td>35</td>\n",
       "      <td>POINT(-79.3 28)</td>\n",
       "      <td>2018</td>\n",
       "      <td>2018-Q1</td>\n",
       "      <td>Jan</td>\n",
       "      <td>2018-W01</td>\n",
       "    </tr>\n",
       "  </tbody>\n",
       "</table>\n",
       "</div>"
      ],
      "text/plain": [
       "        date  number_of_strikes center_point_geom  Year   Quater Month  \\\n",
       "1 2018-01-03                 41   POINT(-78.4 29)  2018  2018-Q1   Jan   \n",
       "2 2018-01-03                 33   POINT(-73.9 27)  2018  2018-Q1   Jan   \n",
       "3 2018-01-03                 38   POINT(-73.8 27)  2018  2018-Q1   Jan   \n",
       "4 2018-01-03                 92     POINT(-79 28)  2018  2018-Q1   Jan   \n",
       "6 2018-01-03                 35   POINT(-79.3 28)  2018  2018-Q1   Jan   \n",
       "\n",
       "       Week  \n",
       "1  2018-W01  \n",
       "2  2018-W01  \n",
       "3  2018-W01  \n",
       "4  2018-W01  \n",
       "6  2018-W01  "
      ]
     },
     "execution_count": 132,
     "metadata": {},
     "output_type": "execute_result"
    }
   ],
   "source": [
    "with_out_outlier.head()"
   ]
  },
  {
   "cell_type": "code",
   "execution_count": 133,
   "id": "43822ac9-37a8-4be6-8b80-09518d16ffad",
   "metadata": {},
   "outputs": [
    {
     "data": {
      "text/plain": [
       "(3344699, 7)"
      ]
     },
     "execution_count": 133,
     "metadata": {},
     "output_type": "execute_result"
    }
   ],
   "source": [
    "with_out_outlier.shape"
   ]
  },
  {
   "cell_type": "code",
   "execution_count": 135,
   "id": "2eec3f96-d6e4-4d98-830c-10acfcdcd395",
   "metadata": {},
   "outputs": [
    {
     "data": {
      "image/png": "[encoded data removed]",
      "text/plain": [
       "<Figure size 640x480 with 1 Axes>"
      ]
     },
     "metadata": {},
     "output_type": "display_data"
    }
   ],
   "source": [
    "sns.boxplot(data=with_out_outlier, x=\"number_of_strikes\")\n",
    "plt.show()"
   ]
  },
  {
   "cell_type": "code",
   "execution_count": 136,
   "id": "ddf3ad46-ac8a-414c-8a3a-390533fd4713",
   "metadata": {},
   "outputs": [
    {
     "name": "stdout",
     "output_type": "stream",
     "text": [
      "Outliers:\n",
      "              date  number_of_strikes  center_point_geom  Year   Quater Month  \\\n",
      "0       2018-01-03                194      POINT(-75 27)  2018  2018-Q1   Jan   \n",
      "1       2018-01-03                 41    POINT(-78.4 29)  2018  2018-Q1   Jan   \n",
      "2       2018-01-03                 33    POINT(-73.9 27)  2018  2018-Q1   Jan   \n",
      "3       2018-01-03                 38    POINT(-73.8 27)  2018  2018-Q1   Jan   \n",
      "4       2018-01-03                 92      POINT(-79 28)  2018  2018-Q1   Jan   \n",
      "...            ...                ...                ...   ...      ...   ...   \n",
      "3401007 2018-12-28                 30  POINT(-90.6 28.7)  2018  2018-Q4   Dec   \n",
      "3401008 2018-12-28                 30  POINT(-89.4 30.9)  2018  2018-Q4   Dec   \n",
      "3401009 2018-12-28                 30  POINT(-89.5 31.4)  2018  2018-Q4   Dec   \n",
      "3401010 2018-12-28                 30  POINT(-88.3 31.6)  2018  2018-Q4   Dec   \n",
      "3401011 2018-12-28                 30  POINT(-88.4 32.1)  2018  2018-Q4   Dec   \n",
      "\n",
      "             Week  \n",
      "0        2018-W01  \n",
      "1        2018-W01  \n",
      "2        2018-W01  \n",
      "3        2018-W01  \n",
      "4        2018-W01  \n",
      "...           ...  \n",
      "3401007  2018-W52  \n",
      "3401008  2018-W52  \n",
      "3401009  2018-W52  \n",
      "3401010  2018-W52  \n",
      "3401011  2018-W52  \n",
      "\n",
      "[380501 rows x 7 columns]\n"
     ]
    }
   ],
   "source": [
    "\n",
    "\n",
    "# Assuming `df[\"column\"]` contains the right-skewed data\n",
    "Q1 = df[\"number_of_strikes\"].quantile(0.25)\n",
    "Q3 = df[\"number_of_strikes\"].quantile(0.75)\n",
    "IQR = Q3 - Q1\n",
    "\n",
    "# Define bounds\n",
    "lower_bound = Q1 - 1.5 * IQR\n",
    "upper_bound = Q3 + 1.5 * IQR\n",
    "\n",
    "# Find outliers\n",
    "outliers = df[(df[\"number_of_strikes\"] < lower_bound) | (df[\"number_of_strikes\"] > upper_bound)]\n",
    "\n",
    "print(\"Outliers:\")\n",
    "print(outliers)\n"
   ]
  },
  {
   "cell_type": "code",
   "execution_count": 137,
   "id": "5ed96bab-a22d-4af1-80e3-828c2f6cd3bb",
   "metadata": {},
   "outputs": [
    {
     "data": {
      "text/plain": [
       "(380501, 7)"
      ]
     },
     "execution_count": 137,
     "metadata": {},
     "output_type": "execute_result"
    }
   ],
   "source": [
    "outliers.shape"
   ]
  },
  {
   "cell_type": "code",
   "execution_count": 138,
   "id": "5214591a-90c3-4bf5-931c-cb7db27a0f20",
   "metadata": {},
   "outputs": [
    {
     "data": {
      "text/plain": [
       "-13.0"
      ]
     },
     "execution_count": 138,
     "metadata": {},
     "output_type": "execute_result"
    }
   ],
   "source": [
    "lower_bound"
   ]
  },
  {
   "cell_type": "code",
   "execution_count": 139,
   "id": "3ac9385c-380e-453e-9247-8de182d7289b",
   "metadata": {},
   "outputs": [
    {
     "data": {
      "text/plain": [
       "27.0"
      ]
     },
     "execution_count": 139,
     "metadata": {},
     "output_type": "execute_result"
    }
   ],
   "source": [
    "upper_bound"
   ]
  },
  {
   "cell_type": "code",
   "execution_count": 140,
   "id": "7c4a50d3-e3e2-4c89-a6be-00e2461ef521",
   "metadata": {},
   "outputs": [],
   "source": [
    "t = df[(df[\"number_of_strikes\"] > lower_bound) & (df[\"number_of_strikes\"] < upper_bound)]"
   ]
  },
  {
   "cell_type": "code",
   "execution_count": 141,
   "id": "91edc9ff-3e93-4a37-b7b6-aa9604119cc9",
   "metadata": {},
   "outputs": [
    {
     "data": {
      "text/plain": [
       "(2998900, 7)"
      ]
     },
     "execution_count": 141,
     "metadata": {},
     "output_type": "execute_result"
    }
   ],
   "source": [
    "t.shape"
   ]
  },
  {
   "cell_type": "code",
   "execution_count": 142,
   "id": "d05fc7d7-4f2e-40df-bf73-6c0d154cc117",
   "metadata": {},
   "outputs": [
    {
     "data": {
      "text/plain": [
       "<Axes: xlabel='number_of_strikes'>"
      ]
     },
     "execution_count": 142,
     "metadata": {},
     "output_type": "execute_result"
    },
    {
     "data": {
      "image/png": "[encoded data removed]",
      "text/plain": [
       "<Figure size 640x480 with 1 Axes>"
      ]
     },
     "metadata": {},
     "output_type": "display_data"
    }
   ],
   "source": [
    "sns.boxplot(data = t, x= \"number_of_strikes\")"
   ]
  },
  {
   "cell_type": "code",
   "execution_count": 145,
   "id": "887ce537-0442-4d89-8327-fa01a86fa699",
   "metadata": {},
   "outputs": [
    {
     "name": "stderr",
     "output_type": "stream",
     "text": [
      "C:\\Users\\spark tech\\AppData\\Local\\Temp\\ipykernel_7788\\722424247.py:1: UserWarning: \n",
      "\n",
      "`distplot` is a deprecated function and will be removed in seaborn v0.14.0.\n",
      "\n",
      "Please adapt your code to use either `displot` (a figure-level function with\n",
      "similar flexibility) or `histplot` (an axes-level function for histograms).\n",
      "\n",
      "For a guide to updating your code to use the new functions, please see\n",
      "https://gist.github.com/mwaskom/de44147ed2974457ad6372750bbe5751\n",
      "\n",
      "  sns.distplot(t[\"number_of_strikes\"])\n",
      "C:\\Users\\spark tech\\anaconda3\\anaconda new\\Lib\\site-packages\\seaborn\\_oldcore.py:1119: FutureWarning: use_inf_as_na option is deprecated and will be removed in a future version. Convert inf values to NaN before operating instead.\n",
      "  with pd.option_context('mode.use_inf_as_na', True):\n"
     ]
    },
    {
     "data": {
      "text/plain": [
       "<Axes: xlabel='number_of_strikes', ylabel='Density'>"
      ]
     },
     "execution_count": 145,
     "metadata": {},
     "output_type": "execute_result"
    },
    {
     "data": {
      "image/png": "[encoded data removed]",
      "text/plain": [
       "<Figure size 640x480 with 1 Axes>"
      ]
     },
     "metadata": {},
     "output_type": "display_data"
    }
   ],
   "source": [
    "sns.distplot(t[\"number_of_strikes\"])"
   ]
  },
  {
   "cell_type": "code",
   "execution_count": 146,
   "id": "f5d124a8-0ac6-4f2a-b4d9-c86799ed652a",
   "metadata": {},
   "outputs": [
    {
     "data": {
      "text/plain": [
       "<matplotlib.collections.PathCollection at 0x19b9644b190>"
      ]
     },
     "execution_count": 146,
     "metadata": {},
     "output_type": "execute_result"
    },
    {
     "data": {
      "image/png": "[encoded data removed]",
      "text/plain": [
       "<Figure size 640x480 with 1 Axes>"
      ]
     },
     "metadata": {},
     "output_type": "display_data"
    }
   ],
   "source": [
    "plt.scatter(df[\"Month\"], df[\"number_of_strikes\"], alpha=0.7, color=\"blue\")"
   ]
  },
  {
   "cell_type": "code",
   "execution_count": 150,
   "id": "d15b7930-56a1-441c-bcc8-f49259c566aa",
   "metadata": {},
   "outputs": [
    {
     "data": {
      "text/plain": [
       "<matplotlib.collections.PathCollection at 0x19b96af0a10>"
      ]
     },
     "execution_count": 150,
     "metadata": {},
     "output_type": "execute_result"
    },
    {
     "data": {
      "image/png": "[encoded data removed]",
      "text/plain": [
       "<Figure size 640x480 with 1 Axes>"
      ]
     },
     "metadata": {},
     "output_type": "display_data"
    }
   ],
   "source": [
    "plt.scatter(t[\"Month\"], t[\"number_of_strikes\"],alpha=1, color=\"Brown\")"
   ]
  },
  {
   "cell_type": "code",
   "execution_count": 151,
   "id": "e9e6c0cb-1832-47b2-9e1a-6da981a5292d",
   "metadata": {},
   "outputs": [
    {
     "data": {
      "text/html": [
       "<div>\n",
       "<style scoped>\n",
       "    .dataframe tbody tr th:only-of-type {\n",
       "        vertical-align: middle;\n",
       "    }\n",
       "\n",
       "    .dataframe tbody tr th {\n",
       "        vertical-align: top;\n",
       "    }\n",
       "\n",
       "    .dataframe thead th {\n",
       "        text-align: right;\n",
       "    }\n",
       "</style>\n",
       "<table border=\"1\" class=\"dataframe\">\n",
       "  <thead>\n",
       "    <tr style=\"text-align: right;\">\n",
       "      <th></th>\n",
       "      <th>date</th>\n",
       "      <th>number_of_strikes</th>\n",
       "      <th>center_point_geom</th>\n",
       "      <th>Year</th>\n",
       "      <th>Quater</th>\n",
       "      <th>Month</th>\n",
       "      <th>Week</th>\n",
       "    </tr>\n",
       "  </thead>\n",
       "  <tbody>\n",
       "    <tr>\n",
       "      <th>0</th>\n",
       "      <td>2018-01-03</td>\n",
       "      <td>194</td>\n",
       "      <td>POINT(-75 27)</td>\n",
       "      <td>2018</td>\n",
       "      <td>2018-Q1</td>\n",
       "      <td>Jan</td>\n",
       "      <td>2018-W01</td>\n",
       "    </tr>\n",
       "    <tr>\n",
       "      <th>1</th>\n",
       "      <td>2018-01-03</td>\n",
       "      <td>41</td>\n",
       "      <td>POINT(-78.4 29)</td>\n",
       "      <td>2018</td>\n",
       "      <td>2018-Q1</td>\n",
       "      <td>Jan</td>\n",
       "      <td>2018-W01</td>\n",
       "    </tr>\n",
       "    <tr>\n",
       "      <th>2</th>\n",
       "      <td>2018-01-03</td>\n",
       "      <td>33</td>\n",
       "      <td>POINT(-73.9 27)</td>\n",
       "      <td>2018</td>\n",
       "      <td>2018-Q1</td>\n",
       "      <td>Jan</td>\n",
       "      <td>2018-W01</td>\n",
       "    </tr>\n",
       "    <tr>\n",
       "      <th>3</th>\n",
       "      <td>2018-01-03</td>\n",
       "      <td>38</td>\n",
       "      <td>POINT(-73.8 27)</td>\n",
       "      <td>2018</td>\n",
       "      <td>2018-Q1</td>\n",
       "      <td>Jan</td>\n",
       "      <td>2018-W01</td>\n",
       "    </tr>\n",
       "    <tr>\n",
       "      <th>4</th>\n",
       "      <td>2018-01-03</td>\n",
       "      <td>92</td>\n",
       "      <td>POINT(-79 28)</td>\n",
       "      <td>2018</td>\n",
       "      <td>2018-Q1</td>\n",
       "      <td>Jan</td>\n",
       "      <td>2018-W01</td>\n",
       "    </tr>\n",
       "    <tr>\n",
       "      <th>...</th>\n",
       "      <td>...</td>\n",
       "      <td>...</td>\n",
       "      <td>...</td>\n",
       "      <td>...</td>\n",
       "      <td>...</td>\n",
       "      <td>...</td>\n",
       "      <td>...</td>\n",
       "    </tr>\n",
       "    <tr>\n",
       "      <th>3401007</th>\n",
       "      <td>2018-12-28</td>\n",
       "      <td>30</td>\n",
       "      <td>POINT(-90.6 28.7)</td>\n",
       "      <td>2018</td>\n",
       "      <td>2018-Q4</td>\n",
       "      <td>Dec</td>\n",
       "      <td>2018-W52</td>\n",
       "    </tr>\n",
       "    <tr>\n",
       "      <th>3401008</th>\n",
       "      <td>2018-12-28</td>\n",
       "      <td>30</td>\n",
       "      <td>POINT(-89.4 30.9)</td>\n",
       "      <td>2018</td>\n",
       "      <td>2018-Q4</td>\n",
       "      <td>Dec</td>\n",
       "      <td>2018-W52</td>\n",
       "    </tr>\n",
       "    <tr>\n",
       "      <th>3401009</th>\n",
       "      <td>2018-12-28</td>\n",
       "      <td>30</td>\n",
       "      <td>POINT(-89.5 31.4)</td>\n",
       "      <td>2018</td>\n",
       "      <td>2018-Q4</td>\n",
       "      <td>Dec</td>\n",
       "      <td>2018-W52</td>\n",
       "    </tr>\n",
       "    <tr>\n",
       "      <th>3401010</th>\n",
       "      <td>2018-12-28</td>\n",
       "      <td>30</td>\n",
       "      <td>POINT(-88.3 31.6)</td>\n",
       "      <td>2018</td>\n",
       "      <td>2018-Q4</td>\n",
       "      <td>Dec</td>\n",
       "      <td>2018-W52</td>\n",
       "    </tr>\n",
       "    <tr>\n",
       "      <th>3401011</th>\n",
       "      <td>2018-12-28</td>\n",
       "      <td>30</td>\n",
       "      <td>POINT(-88.4 32.1)</td>\n",
       "      <td>2018</td>\n",
       "      <td>2018-Q4</td>\n",
       "      <td>Dec</td>\n",
       "      <td>2018-W52</td>\n",
       "    </tr>\n",
       "  </tbody>\n",
       "</table>\n",
       "<p>380501 rows × 7 columns</p>\n",
       "</div>"
      ],
      "text/plain": [
       "              date  number_of_strikes  center_point_geom  Year   Quater Month  \\\n",
       "0       2018-01-03                194      POINT(-75 27)  2018  2018-Q1   Jan   \n",
       "1       2018-01-03                 41    POINT(-78.4 29)  2018  2018-Q1   Jan   \n",
       "2       2018-01-03                 33    POINT(-73.9 27)  2018  2018-Q1   Jan   \n",
       "3       2018-01-03                 38    POINT(-73.8 27)  2018  2018-Q1   Jan   \n",
       "4       2018-01-03                 92      POINT(-79 28)  2018  2018-Q1   Jan   \n",
       "...            ...                ...                ...   ...      ...   ...   \n",
       "3401007 2018-12-28                 30  POINT(-90.6 28.7)  2018  2018-Q4   Dec   \n",
       "3401008 2018-12-28                 30  POINT(-89.4 30.9)  2018  2018-Q4   Dec   \n",
       "3401009 2018-12-28                 30  POINT(-89.5 31.4)  2018  2018-Q4   Dec   \n",
       "3401010 2018-12-28                 30  POINT(-88.3 31.6)  2018  2018-Q4   Dec   \n",
       "3401011 2018-12-28                 30  POINT(-88.4 32.1)  2018  2018-Q4   Dec   \n",
       "\n",
       "             Week  \n",
       "0        2018-W01  \n",
       "1        2018-W01  \n",
       "2        2018-W01  \n",
       "3        2018-W01  \n",
       "4        2018-W01  \n",
       "...           ...  \n",
       "3401007  2018-W52  \n",
       "3401008  2018-W52  \n",
       "3401009  2018-W52  \n",
       "3401010  2018-W52  \n",
       "3401011  2018-W52  \n",
       "\n",
       "[380501 rows x 7 columns]"
      ]
     },
     "execution_count": 151,
     "metadata": {},
     "output_type": "execute_result"
    }
   ],
   "source": [
    "outliers"
   ]
  },
  {
   "cell_type": "code",
   "execution_count": 152,
   "id": "85d70c2b-a49c-467d-a3c6-5abcf5e95378",
   "metadata": {},
   "outputs": [
    {
     "name": "stdout",
     "output_type": "stream",
     "text": [
      "CSV file saved successfully.\n"
     ]
    }
   ],
   "source": [
    "outliers.to_csv(\"output.csv\", index=False)  # index=False prevents saving the index as a column\n",
    "print(\"CSV file saved successfully.\")"
   ]
  },
  {
   "cell_type": "code",
   "execution_count": 154,
   "id": "bac9f0e7-b7d0-4496-be37-b4731050c844",
   "metadata": {},
   "outputs": [
    {
     "name": "stdout",
     "output_type": "stream",
     "text": [
      "Excel file saved successfully.\n"
     ]
    }
   ],
   "source": [
    "outliers.to_excel(\"output.xlsx\", index=False)  # index=False prevents saving the index as a column\n",
    "print(\"Excel file saved successfully.\")"
   ]
  },
  {
   "cell_type": "code",
   "execution_count": 155,
   "id": "715037d3-e9a4-48c6-b735-b63a6a72c353",
   "metadata": {},
   "outputs": [],
   "source": [
    "outliers.to_csv(\"output1.csv\", sep=\";\", index=False)"
   ]
  },
  {
   "cell_type": "code",
   "execution_count": null,
   "id": "0cbce5ba-fd19-41a9-b6c6-94906b12cda3",
   "metadata": {},
   "outputs": [],
   "source": []
  }
 ],
 "metadata": {
  "kernelspec": {
   "display_name": "Python 3 (ipykernel)",
   "language": "python",
   "name": "python3"
  },
  "language_info": {
   "codemirror_mode": {
    "name": "ipython",
    "version": 3
   },
   "file_extension": ".py",
   "mimetype": "text/x-python",
   "name": "python",
   "nbconvert_exporter": "python",
   "pygments_lexer": "ipython3",
   "version": "3.11.7"
  }
 },
 "nbformat": 4,
 "nbformat_minor": 5
}
